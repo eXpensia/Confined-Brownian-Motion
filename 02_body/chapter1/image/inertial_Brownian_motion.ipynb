{
 "cells": [
  {
   "cell_type": "code",
   "execution_count": 3,
   "id": "14192488",
   "metadata": {},
   "outputs": [],
   "source": [
    "import numpy as np"
   ]
  },
  {
   "cell_type": "code",
   "execution_count": 7,
   "id": "0111c0c3",
   "metadata": {},
   "outputs": [],
   "source": [
    "\n",
    "tau = 1e-3 # simulation time step\n",
    "m = 1e-5 # particle mass\n",
    "a = 2e-6 # radius of the particle \n",
    "eta = 0.001 # viscosity (here water)\n",
    "gamma = 6 * np.pi * eta * a\n",
    "\n",
    "tau_B = m/gamma"
   ]
  },
  {
   "cell_type": "code",
   "execution_count": 8,
   "id": "ddc07d79",
   "metadata": {},
   "outputs": [
    {
     "data": {
      "text/plain": [
       "265.2582384864923"
      ]
     },
     "execution_count": 8,
     "metadata": {},
     "output_type": "execute_result"
    }
   ],
   "source": [
    "tau_B"
   ]
  },
  {
   "cell_type": "code",
   "execution_count": null,
   "id": "76859a85",
   "metadata": {},
   "outputs": [],
   "source": []
  }
 ],
 "metadata": {
  "kernelspec": {
   "display_name": "Python 3",
   "language": "python",
   "name": "python3"
  },
  "language_info": {
   "codemirror_mode": {
    "name": "ipython",
    "version": 3
   },
   "file_extension": ".py",
   "mimetype": "text/x-python",
   "name": "python",
   "nbconvert_exporter": "python",
   "pygments_lexer": "ipython3",
   "version": "3.8.5"
  }
 },
 "nbformat": 4,
 "nbformat_minor": 5
}
