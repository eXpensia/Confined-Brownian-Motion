{
 "cells": [
  {
   "cell_type": "markdown",
   "id": "090d2183",
   "metadata": {},
   "source": [
    "# Simple Brownian motion\n",
    "\n",
    "We will in this notebook simulate a simple bulk 1D Brownian motion and compute the Mean Square Displacement (MSD) in order to image the Einstein's theory. Since this notebook is only for demonstration, we will here make all the particle start at the same initial position $x = 0$."
   ]
  },
  {
   "cell_type": "code",
   "execution_count": 1,
   "id": "f681c1a4",
   "metadata": {},
   "outputs": [],
   "source": [
    "import numpy as np\n",
    "import matplotlib.pyplot as plt"
   ]
  },
  {
   "cell_type": "code",
   "execution_count": 2,
   "id": "77cece8f",
   "metadata": {},
   "outputs": [],
   "source": [
    "### Just some matplotlib tweaks\n",
    "import matplotlib as mpl\n",
    "\n",
    "mpl.rcParams[\"xtick.direction\"] = \"in\"\n",
    "mpl.rcParams[\"ytick.direction\"] = \"in\"\n",
    "mpl.rcParams[\"lines.markeredgecolor\"] = \"k\"\n",
    "mpl.rcParams[\"lines.markeredgewidth\"] = 1.5\n",
    "mpl.rcParams[\"figure.dpi\"] = 200\n",
    "from matplotlib import rc\n",
    "rc('font', family='serif')\n",
    "rc('text', usetex=True)\n",
    "rc('xtick', labelsize='medium')\n",
    "rc('ytick', labelsize='medium')\n",
    "rc(\"axes\", labelsize = \"large\")\n",
    "def cm2inch(value):\n",
    "    return value/2.54"
   ]
  },
  {
   "cell_type": "code",
   "execution_count": 3,
   "id": "7e42a7ff",
   "metadata": {},
   "outputs": [],
   "source": [
    "a = 10e-6 # particle radius\n",
    "kt = 4e-21 # Boltzman constant multiplied by the temperature\n",
    "eta = 1e-3 # fluid viscosity (here water)\n",
    "D = kt / (6 * np.pi * eta * a) # Diffusion coefficient"
   ]
  },
  {
   "cell_type": "code",
   "execution_count": 4,
   "id": "87fb5bf7",
   "metadata": {},
   "outputs": [],
   "source": [
    "N = 100# number of particles trajectory simulated\n",
    "L = 100000 # number of time step realised\n",
    "dt = 0.1 # time step"
   ]
  },
  {
   "cell_type": "code",
   "execution_count": 5,
   "id": "4e955228",
   "metadata": {},
   "outputs": [],
   "source": [
    "# Generation of displacement using a white noise\n",
    "Dx = np.sqrt(2*D)*np.random.normal(0, np.sqrt(dt), (L,N))"
   ]
  },
  {
   "cell_type": "code",
   "execution_count": 6,
   "id": "4ab1a291",
   "metadata": {},
   "outputs": [],
   "source": [
    "Xs = np.concatenate(([np.zeros(N)],np.cumsum(Dx, axis = 0)))\n",
    "t = np.arange(len(Xs)) * dt"
   ]
  },
  {
   "cell_type": "code",
   "execution_count": null,
   "id": "e8e5b0b9",
   "metadata": {},
   "outputs": [
    {
     "data": {
      "text/plain": [
       "Text(0, 0.5, 'x position ($\\\\mu$m)')"
      ]
     },
     "execution_count": 7,
     "metadata": {},
     "output_type": "execute_result"
    }
   ],
   "source": [
    "plt.figure()\n",
    "\n",
    "for i in range(N):\n",
    "    plt.plot(t, Xs[:,i]* 1e6) \n",
    "\n",
    "plt.xlabel(\"time (s)\")\n",
    "plt.ylabel(\"x position ($\\mu$m)\")"
   ]
  },
  {
   "cell_type": "code",
   "execution_count": null,
   "id": "d03d7ee8",
   "metadata": {},
   "outputs": [],
   "source": [
    "# Compute the MSD\n",
    "from tqdm import trange\n",
    "MSD = []\n",
    "t_MSD = []\n",
    "for i in trange(1,1000,60):\n",
    "    msd = 0\n",
    "    for j in range(N):\n",
    "        x = Xs[:,j]\n",
    "        msd += np.mean((x[i:] - x[:-i])**2)\n",
    "        \n",
    "    MSD.append(msd/N)\n",
    "    t_MSD.append(i)\n",
    "    "
   ]
  },
  {
   "cell_type": "code",
   "execution_count": null,
   "id": "172c8ef0",
   "metadata": {},
   "outputs": [],
   "source": [
    "plt.plot(t[t_MSD],np.array(MSD)*1e12,\"o\", label = \"Simulation\")\n",
    "plt.plot(t, 2*D*t * 1e12, label = \"Theory\")\n",
    "plt.xlim((0,510))\n",
    "plt.ylim((0,30))\n",
    "plt.xlabel(\"time (s)\")\n",
    "plt.ylabel(\"MSD ($\\mu \\mathrm{m^2.s^{-1}} $)\")\n",
    "plt.legend()"
   ]
  },
  {
   "cell_type": "code",
   "execution_count": null,
   "id": "cc53e64d",
   "metadata": {},
   "outputs": [],
   "source": [
    "fig, (ax1, ax2) = plt.subplots(2, 1, figsize = (cm2inch(16),cm2inch(8)))\n",
    "for i in range(N):\n",
    "    ax1.plot(t[:1000], Xs[:1000,i]* 1e6) \n",
    "\n",
    "ax1.set( ylabel=\"$x$ ($\\mu$m)\", yticks = np.arange(-6, 10, 2), ylim=(-6,7), xlim=(-2,100))\n",
    "\n",
    "ax2.plot(t[t_MSD],np.array(MSD)*1e12,\"o\", label = \"Simulation\")\n",
    "ax2.plot(t[t_MSD], 2*D*t[t_MSD] * 1e12, label = \"Theory\", zorder = - 1, color = \"k\")\n",
    "ax2.set(xlabel=\"time (s)\", ylabel=\"MSD ($\\mu \\mathrm{m^2.s^{-1}} $)\", xlim = (-2,100), ylim = (-0.2,4.5))\n",
    "plt.legend(frameon = True)\n",
    "plt.tight_layout(pad=0.4, w_pad=0.3, h_pad=1.0)\n",
    "                               \n",
    "plt.savefig(\"Brown_exemple.pdf\")"
   ]
  },
  {
   "cell_type": "code",
   "execution_count": null,
   "id": "8ef0a137",
   "metadata": {},
   "outputs": [],
   "source": []
  },
  {
   "cell_type": "code",
   "execution_count": null,
   "id": "371ccddb",
   "metadata": {},
   "outputs": [],
   "source": []
  },
  {
   "cell_type": "code",
   "execution_count": null,
   "id": "b415060e",
   "metadata": {},
   "outputs": [],
   "source": []
  },
  {
   "cell_type": "code",
   "execution_count": null,
   "id": "77e87cc9",
   "metadata": {},
   "outputs": [],
   "source": []
  }
 ],
 "metadata": {
  "kernelspec": {
   "display_name": "Python 3",
   "language": "python",
   "name": "python3"
  },
  "language_info": {
   "codemirror_mode": {
    "name": "ipython",
    "version": 3
   },
   "file_extension": ".py",
   "mimetype": "text/x-python",
   "name": "python",
   "nbconvert_exporter": "python",
   "pygments_lexer": "ipython3",
   "version": "3.8.5"
  }
 },
 "nbformat": 4,
 "nbformat_minor": 5
}
