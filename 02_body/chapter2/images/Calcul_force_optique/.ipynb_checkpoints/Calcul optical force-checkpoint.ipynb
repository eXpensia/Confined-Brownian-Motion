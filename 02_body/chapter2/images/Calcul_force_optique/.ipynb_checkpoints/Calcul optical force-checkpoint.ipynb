{
 "cells": [
  {
   "cell_type": "code",
   "execution_count": 1,
   "id": "d3ed7ee6",
   "metadata": {},
   "outputs": [],
   "source": [
    "import numpy as np\n",
    "import matplotlib.pyplot as plt\n",
    "import miepython as mp"
   ]
  },
  {
   "cell_type": "code",
   "execution_count": 25,
   "id": "3b786e62",
   "metadata": {},
   "outputs": [],
   "source": [
    "import matplotlib as mpl\n",
    "\n",
    "\n",
    "#axes.xaxis.set_tick_params(direction='in', which='both')\n",
    "#axes.yaxis.set_tick_params(direction='in', which='both')\n",
    "mpl.rcParams[\"xtick.direction\"] = \"in\"\n",
    "mpl.rcParams[\"ytick.direction\"] = \"in\"\n",
    "mpl.rcParams[\"lines.markeredgecolor\"] = \"k\"\n",
    "mpl.rcParams[\"lines.markeredgewidth\"] = 0.1\n",
    "mpl.rcParams[\"figure.dpi\"] = 130\n",
    "from matplotlib import rc\n",
    "rc('font', family='serif')\n",
    "rc('text', usetex=False)\n",
    "rc('xtick', labelsize='medium')\n",
    "rc('ytick', labelsize='medium')\n",
    "def cm2inch(value):\n",
    "    return value/2.54"
   ]
  },
  {
   "cell_type": "code",
   "execution_count": 2,
   "id": "651d7136",
   "metadata": {},
   "outputs": [],
   "source": [
    "link = r\"https://refractiveindex.info/tmp/data/organic/(C8H8)n%20-%20polystyren/Zhang.txt\"\n",
    "poly = np.genfromtxt(link, delimiter='\\t')"
   ]
  },
  {
   "cell_type": "code",
   "execution_count": 3,
   "id": "aad4428b",
   "metadata": {},
   "outputs": [],
   "source": [
    "N = len(poly)//2\n",
    "poly_lam = poly[1:N,0][:100]\n",
    "poly_mre = poly[1:N,1][:100]\n",
    "poly_mim = poly[N+1:,1][:100]"
   ]
  },
  {
   "cell_type": "code",
   "execution_count": 4,
   "id": "657792be",
   "metadata": {},
   "outputs": [
    {
     "data": {
      "text/plain": [
       "array([8.13e-07, 7.28e-07, 6.82e-07, 6.70e-07, 6.50e-07, 6.33e-07,\n",
       "       6.12e-07, 6.02e-07, 6.09e-07, 6.25e-07, 6.11e-07, 6.12e-07,\n",
       "       5.72e-07, 5.62e-07, 5.70e-07, 5.78e-07, 6.07e-07, 5.86e-07,\n",
       "       5.95e-07, 5.83e-07, 6.36e-07, 6.31e-07, 5.93e-07, 6.14e-07,\n",
       "       6.27e-07, 5.83e-07, 5.86e-07, 5.73e-07, 5.64e-07, 5.82e-07,\n",
       "       5.64e-07, 6.02e-07, 5.55e-07, 5.76e-07, 5.67e-07, 5.51e-07,\n",
       "       5.98e-07, 6.08e-07, 5.46e-07, 5.45e-07, 5.54e-07, 5.55e-07,\n",
       "       4.48e-07, 4.21e-07, 5.34e-07, 5.11e-07, 5.29e-07, 1.22e-06,\n",
       "       9.11e-07, 8.20e-07, 5.35e-07, 4.93e-07, 3.93e-07, 2.85e-07,\n",
       "       8.16e-07, 4.00e-07, 4.71e-07, 2.04e-07, 2.34e-07, 4.34e-07,\n",
       "       3.49e-07, 7.34e-07, 7.39e-07, 1.01e-06, 9.61e-07, 9.82e-07,\n",
       "       9.36e-07, 9.04e-07, 8.95e-07, 1.25e-06, 1.10e-06, 1.35e-06,\n",
       "       1.88e-06, 4.12e-06, 1.13e-05, 1.14e-05, 4.52e-06, 2.96e-06,\n",
       "       2.45e-06, 3.44e-06, 4.60e-06, 5.24e-06, 4.03e-06, 2.79e-06,\n",
       "       2.06e-06, 1.68e-06, 1.66e-06, 1.88e-06, 1.27e-06, 1.27e-06,\n",
       "       1.51e-06, 1.43e-06, 1.57e-06, 1.74e-06, 2.03e-06, 2.28e-06,\n",
       "       2.05e-06, 3.55e-06, 4.00e-06, 4.78e-06])"
      ]
     },
     "execution_count": 4,
     "metadata": {},
     "output_type": "execute_result"
    }
   ],
   "source": [
    "poly_mim"
   ]
  },
  {
   "cell_type": "code",
   "execution_count": null,
   "id": "a117e1d1",
   "metadata": {},
   "outputs": [],
   "source": [
    "plt.plot(poly_lam*1000,poly_mre,color='blue')\n",
    "\n",
    "#plt.xlim(300,800)\n",
    "#plt.ylim(-,3)\n",
    "\n",
    "plt.xlabel('Wavelength (nm)')\n",
    "plt.ylabel('Refractive Index')\n",
    "#plt.text(350, 1.2, '$m_{re}$', color='blue', fontsize=14)\n",
    "#plt.text(350, 2.2, '$m_{im}$', color='red', fontsize=14)\n",
    "\n",
    "plt.title('Refractive Index of Polystyrene')\n",
    "\n",
    "plt.show()"
   ]
  },
  {
   "cell_type": "code",
   "execution_count": null,
   "id": "8f432852",
   "metadata": {},
   "outputs": [],
   "source": [
    "plt.semilogy(poly_lam*1000,poly_mim,color='red')\n",
    "\n",
    "#plt.xlim(300,800)\n",
    "#plt.ylim(-,3)\n",
    "\n",
    "plt.xlabel('Wavelength (nm)')\n",
    "plt.ylabel('Refractive Index')\n",
    "#plt.text(350, 1.2, '$m_{re}$', color='blue', fontsize=14)\n",
    "#plt.text(350, 2.2, '$m_{im}$', color='red', fontsize=14)\n",
    "\n",
    "plt.title('Complex part of Refractive Index of Polystyrene')\n",
    "\n",
    "plt.show()"
   ]
  },
  {
   "cell_type": "code",
   "execution_count": null,
   "id": "8a181795",
   "metadata": {},
   "outputs": [],
   "source": [
    "r = 1.5  #radius in microns\n",
    "\n",
    "x = 2*np.pi*r/poly_lam;\n",
    "m = poly_mre - 1.0j * poly_mim\n",
    "qext, qsca, qback, g = mp.mie(m,x)\n",
    "absorb  = (qext - qsca) * np.pi * r**2\n",
    "scatt   = qsca * np.pi * r**2\n",
    "extinct = qext* np.pi * r**2\n",
    "\n",
    "plt.plot(poly_lam*1000,absorb)\n",
    "plt.plot(poly_lam*1000,scatt)\n",
    "plt.plot(poly_lam*1000,extinct, \"--\")\n",
    "#plt.text(350, 0.35,'$\\sigma_{abs}$', color='blue', fontsize=14)\n",
    "#plt.text(350, 0.54,'$\\sigma_{sca}$', color='red', fontsize=14)\n",
    "#plt.text(350, 0.84,'$\\sigma_{ext}$', color='green', fontsize=14)\n",
    "\n",
    "plt.xlabel(\"Wavelength (nm)\")\n",
    "plt.ylabel(\"Cross Section (1/microns$^2$)\")\n",
    "plt.title(\"Cross Sections for %.1f$\\mu$m Polystyrebe Spheres\" % (r*2))\n",
    "\n",
    "plt.xlim(300,800)\n",
    "plt.show()\n",
    "\n"
   ]
  },
  {
   "cell_type": "code",
   "execution_count": 10,
   "id": "30214718",
   "metadata": {},
   "outputs": [
    {
     "data": {
      "text/plain": [
       "[<matplotlib.lines.Line2D at 0x1ee0bdebf40>]"
      ]
     },
     "execution_count": 10,
     "metadata": {},
     "output_type": "execute_result"
    },
    {
     "data": {
      "image/png": "[encoded data removed]",
      "text/plain": [
       "<Figure size 432x288 with 1 Axes>"
      ]
     },
     "metadata": {
      "needs_background": "light"
     },
     "output_type": "display_data"
    }
   ],
   "source": [
    "plt.plot(poly_lam)"
   ]
  },
  {
   "cell_type": "code",
   "execution_count": null,
   "id": "7bfc3488",
   "metadata": {},
   "outputs": [],
   "source": []
  }
 ],
 "metadata": {
  "kernelspec": {
   "display_name": "Python 3",
   "language": "python",
   "name": "python3"
  },
  "language_info": {
   "codemirror_mode": {
    "name": "ipython",
    "version": 3
   },
   "file_extension": ".py",
   "mimetype": "text/x-python",
   "name": "python",
   "nbconvert_exporter": "python",
   "pygments_lexer": "ipython3",
   "version": "3.9.5"
  }
 },
 "nbformat": 4,
 "nbformat_minor": 5
}
