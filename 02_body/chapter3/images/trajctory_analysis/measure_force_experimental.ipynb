{
 "cells": [
  {
   "cell_type": "code",
   "execution_count": 2,
   "id": "circular-reference",
   "metadata": {},
   "outputs": [],
   "source": [
    "# Just importing stuff and setting-up matplolib\n",
    "import numpy as np\n",
    "import matplotlib.pyplot as plt\n",
    "from scipy.io import loadmat\n",
    "import matplotlib as mpl\n",
    "from scipy.optimize import minimize\n",
    "mpl.rcParams[\"xtick.direction\"] = \"in\"\n",
    "mpl.rcParams[\"ytick.direction\"] = \"in\"\n",
    "mpl.rcParams[\"lines.markeredgecolor\"] = \"k\"\n",
    "mpl.rcParams[\"lines.markeredgewidth\"] = 1.5\n",
    "mpl.rcParams[\"figure.dpi\"] = 200\n",
    "from matplotlib import rc\n",
    "rc('font', family='serif')\n",
    "rc('text', usetex=True)\n",
    "rc('xtick', labelsize='medium')\n",
    "rc('ytick', labelsize='medium')\n",
    "rc(\"axes\", labelsize = \"large\")\n",
    "def cm2inch(value):\n",
    "    return value/2.54\n",
    "def cm2inch(value):\n",
    "    return value/2.54\n",
    "def gauss_function(x, a, x0, sigma):\n",
    "    return a*np.exp(-(x-x0)**2/(2*sigma**2))\n",
    "def pdf(data, bins = 10, density = True):\n",
    "    \n",
    "    pdf, bins_edge = np.histogram(data, bins = bins, density = density)\n",
    "    bins_center = (bins_edge[0:-1] + bins_edge[1:]) / 2\n",
    "    \n",
    "    return pdf, bins_center "
   ]
  },
  {
   "cell_type": "markdown",
   "id": "wired-barrier",
   "metadata": {},
   "source": [
    "# Experimental force measurement\n",
    "\n",
    "In this notebook, we are gonna compute the force felt by our particle, experimentaly using the data of the preprint.\n",
    "\n",
    "In the first part we will measure the force using the experimentaly measured potential.\n",
    "\n",
    "On the second part we will use the local drifts and check if everything match."
   ]
  },
  {
   "cell_type": "code",
   "execution_count": 3,
   "id": "chief-philosophy",
   "metadata": {},
   "outputs": [],
   "source": [
    "# Define logarythmic histrogram in order to have more points near the surface.\n",
    "def logarithmic_hist(data,begin,stop,num = 50,base = 2):\n",
    "    \n",
    "    if begin == 0:\n",
    "        beg = stop/num\n",
    "        bins = np.logspace(np.log(beg)/np.log(base), np.log(stop)/np.log(base), num-1, base=base)\n",
    "        widths = (bins[1:] - bins[:-1])\n",
    "        bins = np.cumsum(widths[::-1])\n",
    "        bins = np.concatenate(([0],bins))\n",
    "        widths = (bins[1:] - bins[:-1])\n",
    "    \n",
    "    else:\n",
    "        bins = np.logspace(np.log(begin)/np.log(base), np.log(stop)/np.log(base), num, base=base)\n",
    "        widths = (bins[1:] - bins[:-1])\n",
    "    \n",
    "    hist,bins = np.histogram(data, bins=bins,density=True)\n",
    "    # normalize by bin width\n",
    "    bins_center = (bins[1:] + bins[:-1])/2\n",
    "    \n",
    "    return bins_center,widths, hist"
   ]
  },
  {
   "cell_type": "markdown",
   "id": "canadian-outside",
   "metadata": {},
   "source": [
    "Data loading"
   ]
  },
  {
   "cell_type": "code",
   "execution_count": 4,
   "id": "general-aruba",
   "metadata": {},
   "outputs": [
    {
     "ename": "FileNotFoundError",
     "evalue": "[Errno 2] No such file or directory: '../data/fit_result_dur_27052020_n_r_fix_0p0513_wav_532_r_1p516_n_1.597.mat'",
     "output_type": "error",
     "traceback": [
      "\u001b[1;31m---------------------------------------------------------------------------\u001b[0m",
      "\u001b[1;31mFileNotFoundError\u001b[0m                         Traceback (most recent call last)",
      "\u001b[1;32m~\\miniconda3\\envs\\holopy\\lib\\site-packages\\scipy\\io\\matlab\\mio.py\u001b[0m in \u001b[0;36m_open_file\u001b[1;34m(file_like, appendmat, mode)\u001b[0m\n\u001b[0;32m     38\u001b[0m     \u001b[1;32mtry\u001b[0m\u001b[1;33m:\u001b[0m\u001b[1;33m\u001b[0m\u001b[1;33m\u001b[0m\u001b[0m\n\u001b[1;32m---> 39\u001b[1;33m         \u001b[1;32mreturn\u001b[0m \u001b[0mopen\u001b[0m\u001b[1;33m(\u001b[0m\u001b[0mfile_like\u001b[0m\u001b[1;33m,\u001b[0m \u001b[0mmode\u001b[0m\u001b[1;33m)\u001b[0m\u001b[1;33m,\u001b[0m \u001b[1;32mTrue\u001b[0m\u001b[1;33m\u001b[0m\u001b[1;33m\u001b[0m\u001b[0m\n\u001b[0m\u001b[0;32m     40\u001b[0m     \u001b[1;32mexcept\u001b[0m \u001b[0mIOError\u001b[0m \u001b[1;32mas\u001b[0m \u001b[0me\u001b[0m\u001b[1;33m:\u001b[0m\u001b[1;33m\u001b[0m\u001b[1;33m\u001b[0m\u001b[0m\n",
      "\u001b[1;31mFileNotFoundError\u001b[0m: [Errno 2] No such file or directory: '../data/fit_result_dur_27052020_n_r_fix_0p0513_wav_532_r_1p516_n_1.597.mat'",
      "\nDuring handling of the above exception, another exception occurred:\n",
      "\u001b[1;31mFileNotFoundError\u001b[0m                         Traceback (most recent call last)",
      "\u001b[1;32m<ipython-input-4-1727d82541bf>\u001b[0m in \u001b[0;36m<module>\u001b[1;34m\u001b[0m\n\u001b[1;32m----> 1\u001b[1;33m \u001b[0mraw_data\u001b[0m \u001b[1;33m=\u001b[0m \u001b[0mloadmat\u001b[0m\u001b[1;33m(\u001b[0m\u001b[1;34m\"../data/fit_result_dur_27052020_n_r_fix_0p0513_wav_532_r_1p516_n_1.597.mat\"\u001b[0m\u001b[1;33m)\u001b[0m\u001b[1;33m[\u001b[0m\u001b[1;34m\"data\"\u001b[0m\u001b[1;33m]\u001b[0m\u001b[1;33m[\u001b[0m\u001b[1;33m:\u001b[0m\u001b[1;33m,\u001b[0m\u001b[1;36m0\u001b[0m\u001b[1;33m:\u001b[0m\u001b[1;36m3\u001b[0m\u001b[1;33m]\u001b[0m\u001b[1;33m\u001b[0m\u001b[1;33m\u001b[0m\u001b[0m\n\u001b[0m\u001b[0;32m      2\u001b[0m \u001b[0mz_exp\u001b[0m \u001b[1;33m=\u001b[0m \u001b[0mraw_data\u001b[0m\u001b[1;33m[\u001b[0m\u001b[1;33m:\u001b[0m\u001b[1;33m,\u001b[0m\u001b[1;36m2\u001b[0m\u001b[1;33m]\u001b[0m \u001b[1;33m*\u001b[0m \u001b[1;36m0.0513\u001b[0m \u001b[1;33m*\u001b[0m \u001b[1;36m1e-6\u001b[0m\u001b[1;33m\u001b[0m\u001b[1;33m\u001b[0m\u001b[0m\n\u001b[0;32m      3\u001b[0m \u001b[0mz_exp\u001b[0m \u001b[1;33m=\u001b[0m \u001b[0mz_exp\u001b[0m \u001b[1;33m-\u001b[0m \u001b[0mnp\u001b[0m\u001b[1;33m.\u001b[0m\u001b[0mmin\u001b[0m\u001b[1;33m(\u001b[0m\u001b[0mz_exp\u001b[0m\u001b[1;33m)\u001b[0m\u001b[1;33m\u001b[0m\u001b[1;33m\u001b[0m\u001b[0m\n",
      "\u001b[1;32m~\\miniconda3\\envs\\holopy\\lib\\site-packages\\scipy\\io\\matlab\\mio.py\u001b[0m in \u001b[0;36mloadmat\u001b[1;34m(file_name, mdict, appendmat, **kwargs)\u001b[0m\n\u001b[0;32m    222\u001b[0m     \"\"\"\n\u001b[0;32m    223\u001b[0m     \u001b[0mvariable_names\u001b[0m \u001b[1;33m=\u001b[0m \u001b[0mkwargs\u001b[0m\u001b[1;33m.\u001b[0m\u001b[0mpop\u001b[0m\u001b[1;33m(\u001b[0m\u001b[1;34m'variable_names'\u001b[0m\u001b[1;33m,\u001b[0m \u001b[1;32mNone\u001b[0m\u001b[1;33m)\u001b[0m\u001b[1;33m\u001b[0m\u001b[1;33m\u001b[0m\u001b[0m\n\u001b[1;32m--> 224\u001b[1;33m     \u001b[1;32mwith\u001b[0m \u001b[0m_open_file_context\u001b[0m\u001b[1;33m(\u001b[0m\u001b[0mfile_name\u001b[0m\u001b[1;33m,\u001b[0m \u001b[0mappendmat\u001b[0m\u001b[1;33m)\u001b[0m \u001b[1;32mas\u001b[0m \u001b[0mf\u001b[0m\u001b[1;33m:\u001b[0m\u001b[1;33m\u001b[0m\u001b[1;33m\u001b[0m\u001b[0m\n\u001b[0m\u001b[0;32m    225\u001b[0m         \u001b[0mMR\u001b[0m\u001b[1;33m,\u001b[0m \u001b[0m_\u001b[0m \u001b[1;33m=\u001b[0m \u001b[0mmat_reader_factory\u001b[0m\u001b[1;33m(\u001b[0m\u001b[0mf\u001b[0m\u001b[1;33m,\u001b[0m \u001b[1;33m**\u001b[0m\u001b[0mkwargs\u001b[0m\u001b[1;33m)\u001b[0m\u001b[1;33m\u001b[0m\u001b[1;33m\u001b[0m\u001b[0m\n\u001b[0;32m    226\u001b[0m         \u001b[0mmatfile_dict\u001b[0m \u001b[1;33m=\u001b[0m \u001b[0mMR\u001b[0m\u001b[1;33m.\u001b[0m\u001b[0mget_variables\u001b[0m\u001b[1;33m(\u001b[0m\u001b[0mvariable_names\u001b[0m\u001b[1;33m)\u001b[0m\u001b[1;33m\u001b[0m\u001b[1;33m\u001b[0m\u001b[0m\n",
      "\u001b[1;32m~\\miniconda3\\envs\\holopy\\lib\\contextlib.py\u001b[0m in \u001b[0;36m__enter__\u001b[1;34m(self)\u001b[0m\n\u001b[0;32m    115\u001b[0m         \u001b[1;32mdel\u001b[0m \u001b[0mself\u001b[0m\u001b[1;33m.\u001b[0m\u001b[0margs\u001b[0m\u001b[1;33m,\u001b[0m \u001b[0mself\u001b[0m\u001b[1;33m.\u001b[0m\u001b[0mkwds\u001b[0m\u001b[1;33m,\u001b[0m \u001b[0mself\u001b[0m\u001b[1;33m.\u001b[0m\u001b[0mfunc\u001b[0m\u001b[1;33m\u001b[0m\u001b[1;33m\u001b[0m\u001b[0m\n\u001b[0;32m    116\u001b[0m         \u001b[1;32mtry\u001b[0m\u001b[1;33m:\u001b[0m\u001b[1;33m\u001b[0m\u001b[1;33m\u001b[0m\u001b[0m\n\u001b[1;32m--> 117\u001b[1;33m             \u001b[1;32mreturn\u001b[0m \u001b[0mnext\u001b[0m\u001b[1;33m(\u001b[0m\u001b[0mself\u001b[0m\u001b[1;33m.\u001b[0m\u001b[0mgen\u001b[0m\u001b[1;33m)\u001b[0m\u001b[1;33m\u001b[0m\u001b[1;33m\u001b[0m\u001b[0m\n\u001b[0m\u001b[0;32m    118\u001b[0m         \u001b[1;32mexcept\u001b[0m \u001b[0mStopIteration\u001b[0m\u001b[1;33m:\u001b[0m\u001b[1;33m\u001b[0m\u001b[1;33m\u001b[0m\u001b[0m\n\u001b[0;32m    119\u001b[0m             \u001b[1;32mraise\u001b[0m \u001b[0mRuntimeError\u001b[0m\u001b[1;33m(\u001b[0m\u001b[1;34m\"generator didn't yield\"\u001b[0m\u001b[1;33m)\u001b[0m \u001b[1;32mfrom\u001b[0m \u001b[1;32mNone\u001b[0m\u001b[1;33m\u001b[0m\u001b[1;33m\u001b[0m\u001b[0m\n",
      "\u001b[1;32m~\\miniconda3\\envs\\holopy\\lib\\site-packages\\scipy\\io\\matlab\\mio.py\u001b[0m in \u001b[0;36m_open_file_context\u001b[1;34m(file_like, appendmat, mode)\u001b[0m\n\u001b[0;32m     15\u001b[0m \u001b[1;33m@\u001b[0m\u001b[0mcontextmanager\u001b[0m\u001b[1;33m\u001b[0m\u001b[1;33m\u001b[0m\u001b[0m\n\u001b[0;32m     16\u001b[0m \u001b[1;32mdef\u001b[0m \u001b[0m_open_file_context\u001b[0m\u001b[1;33m(\u001b[0m\u001b[0mfile_like\u001b[0m\u001b[1;33m,\u001b[0m \u001b[0mappendmat\u001b[0m\u001b[1;33m,\u001b[0m \u001b[0mmode\u001b[0m\u001b[1;33m=\u001b[0m\u001b[1;34m'rb'\u001b[0m\u001b[1;33m)\u001b[0m\u001b[1;33m:\u001b[0m\u001b[1;33m\u001b[0m\u001b[1;33m\u001b[0m\u001b[0m\n\u001b[1;32m---> 17\u001b[1;33m     \u001b[0mf\u001b[0m\u001b[1;33m,\u001b[0m \u001b[0mopened\u001b[0m \u001b[1;33m=\u001b[0m \u001b[0m_open_file\u001b[0m\u001b[1;33m(\u001b[0m\u001b[0mfile_like\u001b[0m\u001b[1;33m,\u001b[0m \u001b[0mappendmat\u001b[0m\u001b[1;33m,\u001b[0m \u001b[0mmode\u001b[0m\u001b[1;33m)\u001b[0m\u001b[1;33m\u001b[0m\u001b[1;33m\u001b[0m\u001b[0m\n\u001b[0m\u001b[0;32m     18\u001b[0m     \u001b[1;32mtry\u001b[0m\u001b[1;33m:\u001b[0m\u001b[1;33m\u001b[0m\u001b[1;33m\u001b[0m\u001b[0m\n\u001b[0;32m     19\u001b[0m         \u001b[1;32myield\u001b[0m \u001b[0mf\u001b[0m\u001b[1;33m\u001b[0m\u001b[1;33m\u001b[0m\u001b[0m\n",
      "\u001b[1;32m~\\miniconda3\\envs\\holopy\\lib\\site-packages\\scipy\\io\\matlab\\mio.py\u001b[0m in \u001b[0;36m_open_file\u001b[1;34m(file_like, appendmat, mode)\u001b[0m\n\u001b[0;32m     43\u001b[0m             \u001b[1;32mif\u001b[0m \u001b[0mappendmat\u001b[0m \u001b[1;32mand\u001b[0m \u001b[1;32mnot\u001b[0m \u001b[0mfile_like\u001b[0m\u001b[1;33m.\u001b[0m\u001b[0mendswith\u001b[0m\u001b[1;33m(\u001b[0m\u001b[1;34m'.mat'\u001b[0m\u001b[1;33m)\u001b[0m\u001b[1;33m:\u001b[0m\u001b[1;33m\u001b[0m\u001b[1;33m\u001b[0m\u001b[0m\n\u001b[0;32m     44\u001b[0m                 \u001b[0mfile_like\u001b[0m \u001b[1;33m+=\u001b[0m \u001b[1;34m'.mat'\u001b[0m\u001b[1;33m\u001b[0m\u001b[1;33m\u001b[0m\u001b[0m\n\u001b[1;32m---> 45\u001b[1;33m             \u001b[1;32mreturn\u001b[0m \u001b[0mopen\u001b[0m\u001b[1;33m(\u001b[0m\u001b[0mfile_like\u001b[0m\u001b[1;33m,\u001b[0m \u001b[0mmode\u001b[0m\u001b[1;33m)\u001b[0m\u001b[1;33m,\u001b[0m \u001b[1;32mTrue\u001b[0m\u001b[1;33m\u001b[0m\u001b[1;33m\u001b[0m\u001b[0m\n\u001b[0m\u001b[0;32m     46\u001b[0m         \u001b[1;32melse\u001b[0m\u001b[1;33m:\u001b[0m\u001b[1;33m\u001b[0m\u001b[1;33m\u001b[0m\u001b[0m\n\u001b[0;32m     47\u001b[0m             raise IOError(\n",
      "\u001b[1;31mFileNotFoundError\u001b[0m: [Errno 2] No such file or directory: '../data/fit_result_dur_27052020_n_r_fix_0p0513_wav_532_r_1p516_n_1.597.mat'"
     ]
    }
   ],
   "source": [
    "\n",
    "raw_data = loadmat(\"../data/fit_result_dur_27052020_n_r_fix_0p0513_wav_532_r_1p516_n_1.597.mat\")[\"data\"][:,0:3]\n",
    "z_exp = raw_data[:,2] * 0.0513 * 1e-6\n",
    "z_exp = z_exp - np.min(z_exp)"
   ]
  },
  {
   "cell_type": "code",
   "execution_count": 5,
   "id": "owned-mixture",
   "metadata": {},
   "outputs": [
    {
     "ename": "NameError",
     "evalue": "name 'z_exp' is not defined",
     "output_type": "error",
     "traceback": [
      "\u001b[1;31m---------------------------------------------------------------------------\u001b[0m",
      "\u001b[1;31mNameError\u001b[0m                                 Traceback (most recent call last)",
      "\u001b[1;32m<ipython-input-5-aa00b72d8a2e>\u001b[0m in \u001b[0;36m<module>\u001b[1;34m\u001b[0m\n\u001b[0;32m      1\u001b[0m \u001b[1;31m# We compute the PDF\u001b[0m\u001b[1;33m\u001b[0m\u001b[1;33m\u001b[0m\u001b[1;33m\u001b[0m\u001b[0m\n\u001b[1;32m----> 2\u001b[1;33m \u001b[0mz_hist\u001b[0m\u001b[1;33m,\u001b[0m \u001b[0m_\u001b[0m\u001b[1;33m,\u001b[0m \u001b[0mP_z\u001b[0m\u001b[1;33m=\u001b[0m \u001b[0mlogarithmic_hist\u001b[0m\u001b[1;33m(\u001b[0m\u001b[0mz_exp\u001b[0m\u001b[1;33m,\u001b[0m \u001b[1;36m39e-9\u001b[0m\u001b[1;33m,\u001b[0m \u001b[1;36m2e-6\u001b[0m\u001b[1;33m,\u001b[0m \u001b[0mnum\u001b[0m\u001b[1;33m=\u001b[0m\u001b[1;36m50\u001b[0m\u001b[1;33m)\u001b[0m\u001b[1;33m\u001b[0m\u001b[1;33m\u001b[0m\u001b[0m\n\u001b[0m\u001b[0;32m      3\u001b[0m \u001b[0mP_z\u001b[0m \u001b[1;33m=\u001b[0m \u001b[0mP_z\u001b[0m \u001b[1;33m/\u001b[0m \u001b[0mnp\u001b[0m\u001b[1;33m.\u001b[0m\u001b[0mtrapz\u001b[0m\u001b[1;33m(\u001b[0m\u001b[0mP_z\u001b[0m\u001b[1;33m,\u001b[0m \u001b[0mz_hist\u001b[0m\u001b[1;33m)\u001b[0m\u001b[1;33m\u001b[0m\u001b[1;33m\u001b[0m\u001b[0m\n",
      "\u001b[1;31mNameError\u001b[0m: name 'z_exp' is not defined"
     ]
    }
   ],
   "source": [
    "# We compute the PDF\n",
    "z_hist, _, P_z= logarithmic_hist(z_exp, 39e-9, 2e-6, num=50)\n",
    "P_z = P_z / np.trapz(P_z, z_hist)"
   ]
  },
  {
   "cell_type": "code",
   "execution_count": 6,
   "id": "competent-tactics",
   "metadata": {},
   "outputs": [
    {
     "ename": "NameError",
     "evalue": "name 'z_hist' is not defined",
     "output_type": "error",
     "traceback": [
      "\u001b[1;31m---------------------------------------------------------------------------\u001b[0m",
      "\u001b[1;31mNameError\u001b[0m                                 Traceback (most recent call last)",
      "\u001b[1;32m<ipython-input-6-60a130ccd920>\u001b[0m in \u001b[0;36m<module>\u001b[1;34m\u001b[0m\n\u001b[0;32m      1\u001b[0m \u001b[1;31m# Just a plot of the PDF\u001b[0m\u001b[1;33m\u001b[0m\u001b[1;33m\u001b[0m\u001b[1;33m\u001b[0m\u001b[0m\n\u001b[1;32m----> 2\u001b[1;33m \u001b[0mplt\u001b[0m\u001b[1;33m.\u001b[0m\u001b[0msemilogy\u001b[0m\u001b[1;33m(\u001b[0m\u001b[0mz_hist\u001b[0m\u001b[1;33m,\u001b[0m \u001b[0mP_z\u001b[0m\u001b[1;33m,\u001b[0m \u001b[1;34m\"o\"\u001b[0m\u001b[1;33m)\u001b[0m\u001b[1;33m\u001b[0m\u001b[1;33m\u001b[0m\u001b[0m\n\u001b[0m\u001b[0;32m      3\u001b[0m \u001b[0mplt\u001b[0m\u001b[1;33m.\u001b[0m\u001b[0mxlabel\u001b[0m\u001b[1;33m(\u001b[0m\u001b[1;34m\"$z$ (m)\"\u001b[0m\u001b[1;33m)\u001b[0m\u001b[1;33m\u001b[0m\u001b[1;33m\u001b[0m\u001b[0m\n\u001b[0;32m      4\u001b[0m \u001b[0mplt\u001b[0m\u001b[1;33m.\u001b[0m\u001b[0mylabel\u001b[0m\u001b[1;33m(\u001b[0m\u001b[1;34m\"$P_{eq}(z)$\"\u001b[0m\u001b[1;33m)\u001b[0m\u001b[1;33m\u001b[0m\u001b[1;33m\u001b[0m\u001b[0m\n",
      "\u001b[1;31mNameError\u001b[0m: name 'z_hist' is not defined"
     ]
    }
   ],
   "source": [
    "# Just a plot of the PDF\n",
    "plt.semilogy(z_hist, P_z, \"o\")\n",
    "plt.xlabel(\"$z$ (m)\")\n",
    "plt.ylabel(\"$P_{eq}(z)$\")"
   ]
  },
  {
   "cell_type": "markdown",
   "id": "driven-stuart",
   "metadata": {},
   "source": [
    "To compute de force we then avec to take the derivative of $\\mathrm{log}(P_{eq})$ "
   ]
  },
  {
   "cell_type": "code",
   "execution_count": 7,
   "id": "spread-bench",
   "metadata": {},
   "outputs": [
    {
     "ename": "NameError",
     "evalue": "name 'P_z' is not defined",
     "output_type": "error",
     "traceback": [
      "\u001b[1;31m---------------------------------------------------------------------------\u001b[0m",
      "\u001b[1;31mNameError\u001b[0m                                 Traceback (most recent call last)",
      "\u001b[1;32m<ipython-input-7-45c84b2e10ce>\u001b[0m in \u001b[0;36m<module>\u001b[1;34m\u001b[0m\n\u001b[1;32m----> 1\u001b[1;33m \u001b[0mF_eq\u001b[0m \u001b[1;33m=\u001b[0m  \u001b[0mnp\u001b[0m\u001b[1;33m.\u001b[0m\u001b[0mgradient\u001b[0m\u001b[1;33m(\u001b[0m\u001b[0mnp\u001b[0m\u001b[1;33m.\u001b[0m\u001b[0mlog\u001b[0m\u001b[1;33m(\u001b[0m\u001b[0mP_z\u001b[0m\u001b[1;33m)\u001b[0m\u001b[1;33m,\u001b[0m \u001b[0mz_hist\u001b[0m\u001b[1;33m)\u001b[0m \u001b[1;33m*\u001b[0m \u001b[1;36m4e-21\u001b[0m\u001b[1;33m\u001b[0m\u001b[1;33m\u001b[0m\u001b[0m\n\u001b[0m\u001b[0;32m      2\u001b[0m \u001b[1;31m#F_eq = (P_z[1:] - P_z[:-1]) / (z_hist[1:] - z_hist[:-1])\u001b[0m\u001b[1;33m\u001b[0m\u001b[1;33m\u001b[0m\u001b[1;33m\u001b[0m\u001b[0m\n",
      "\u001b[1;31mNameError\u001b[0m: name 'P_z' is not defined"
     ]
    }
   ],
   "source": [
    "F_eq =  np.gradient(np.log(P_z), z_hist) * 4e-21\n",
    "#F_eq = (P_z[1:] - P_z[:-1]) / (z_hist[1:] - z_hist[:-1])"
   ]
  },
  {
   "cell_type": "markdown",
   "id": "fatty-easter",
   "metadata": {},
   "source": [
    "We want now to compare with the results of the force that can be computed from the result of the multifit, which gives us a good measurement of the following parameters.\n",
    "\n",
    "B = 4.5\n",
    "ld = 21 nm\n",
    "lb = 532 nm"
   ]
  },
  {
   "cell_type": "code",
   "execution_count": 8,
   "id": "rocky-copper",
   "metadata": {},
   "outputs": [],
   "source": [
    "B = 4.8\n",
    "ld = 20.8e-9\n",
    "lb = 532e-9\n"
   ]
  },
  {
   "cell_type": "code",
   "execution_count": 9,
   "id": "productive-scientist",
   "metadata": {},
   "outputs": [],
   "source": [
    "z_F_th = np.linspace(20e-9,3e-6,10000)\n",
    "# just a function to compute the theoritical force from the results of the multifit\n",
    "f_th = lambda z:4e-21 * ( B/(ld) * np.exp(- z/(ld)) - 1/(lb))\n",
    "\n",
    "F_th = f_th(z_F_th)\n"
   ]
  },
  {
   "cell_type": "code",
   "execution_count": 10,
   "id": "divided-holiday",
   "metadata": {},
   "outputs": [
    {
     "ename": "NameError",
     "evalue": "name 'z_hist' is not defined",
     "output_type": "error",
     "traceback": [
      "\u001b[1;31m---------------------------------------------------------------------------\u001b[0m",
      "\u001b[1;31mNameError\u001b[0m                                 Traceback (most recent call last)",
      "\u001b[1;32m<ipython-input-10-c0eefec0aaf0>\u001b[0m in \u001b[0;36m<module>\u001b[1;34m\u001b[0m\n\u001b[1;32m----> 1\u001b[1;33m \u001b[0mplt\u001b[0m\u001b[1;33m.\u001b[0m\u001b[0msemilogx\u001b[0m\u001b[1;33m(\u001b[0m\u001b[0mz_hist\u001b[0m\u001b[1;33m,\u001b[0m \u001b[0mF_eq\u001b[0m \u001b[1;33m*\u001b[0m \u001b[1;36m1e15\u001b[0m\u001b[1;33m,\u001b[0m \u001b[1;34m\"s\"\u001b[0m\u001b[1;33m,\u001b[0m \u001b[0mlabel\u001b[0m \u001b[1;33m=\u001b[0m \u001b[1;34m\"Force from E\"\u001b[0m\u001b[1;33m)\u001b[0m\u001b[1;33m\u001b[0m\u001b[1;33m\u001b[0m\u001b[0m\n\u001b[0m\u001b[0;32m      2\u001b[0m \u001b[0mplt\u001b[0m\u001b[1;33m.\u001b[0m\u001b[0mplot\u001b[0m\u001b[1;33m(\u001b[0m\u001b[0mz_F_th\u001b[0m\u001b[1;33m,\u001b[0m \u001b[0mF_th\u001b[0m \u001b[1;33m*\u001b[0m \u001b[1;36m1e15\u001b[0m\u001b[1;33m,\u001b[0m \u001b[0mcolor\u001b[0m \u001b[1;33m=\u001b[0m \u001b[1;34m\"k\"\u001b[0m\u001b[1;33m,\u001b[0m \u001b[0mlabel\u001b[0m \u001b[1;33m=\u001b[0m \u001b[1;34m\"multi-fit force\"\u001b[0m\u001b[1;33m)\u001b[0m\u001b[1;33m\u001b[0m\u001b[1;33m\u001b[0m\u001b[0m\n\u001b[0;32m      3\u001b[0m \u001b[0mplt\u001b[0m\u001b[1;33m.\u001b[0m\u001b[0mxlabel\u001b[0m\u001b[1;33m(\u001b[0m\u001b[1;34m\"$z$ (m)\"\u001b[0m\u001b[1;33m)\u001b[0m\u001b[1;33m\u001b[0m\u001b[1;33m\u001b[0m\u001b[0m\n\u001b[0;32m      4\u001b[0m \u001b[0mplt\u001b[0m\u001b[1;33m.\u001b[0m\u001b[0mylabel\u001b[0m\u001b[1;33m(\u001b[0m\u001b[1;34m\"$F_{eq}$ (fN)\"\u001b[0m\u001b[1;33m)\u001b[0m\u001b[1;33m\u001b[0m\u001b[1;33m\u001b[0m\u001b[0m\n\u001b[0;32m      5\u001b[0m \u001b[0mplt\u001b[0m\u001b[1;33m.\u001b[0m\u001b[0mylim\u001b[0m\u001b[1;33m(\u001b[0m\u001b[1;33m(\u001b[0m\u001b[1;32mNone\u001b[0m\u001b[1;33m,\u001b[0m\u001b[1;36m350\u001b[0m\u001b[1;33m)\u001b[0m\u001b[1;33m)\u001b[0m\u001b[1;33m\u001b[0m\u001b[1;33m\u001b[0m\u001b[0m\n",
      "\u001b[1;31mNameError\u001b[0m: name 'z_hist' is not defined"
     ]
    }
   ],
   "source": [
    "plt.semilogx(z_hist, F_eq * 1e15, \"s\", label = \"Force from E\")\n",
    "plt.plot(z_F_th, F_th * 1e15, color = \"k\", label = \"multi-fit force\")\n",
    "plt.xlabel(\"$z$ (m)\") \n",
    "plt.ylabel(\"$F_{eq}$ (fN)\")\n",
    "plt.ylim((None,350))\n",
    "plt.legend()\n",
    "plt.show()"
   ]
  },
  {
   "cell_type": "markdown",
   "id": "laden-blackjack",
   "metadata": {},
   "source": [
    "We see that there is an offset to take into account on $z$, to correctly take in into account we need to measure it correctly. in order to do it, i'll directly do a function that compute the $\\chi ^2$ as a function of the offset that we apply on the trajectory.\n",
    "\n",
    "As a reminder we do have this offset due to the way the holographic method we use. This method method mesure the distance between the imaging plane of the objective and the particle but not between the surface and the particle that we have to deduce form the data."
   ]
  },
  {
   "cell_type": "code",
   "execution_count": 11,
   "id": "indie-lexington",
   "metadata": {},
   "outputs": [],
   "source": [
    "def chi_2_force(offset):\n",
    "    \"\"\" Function that permits to directly measure the chi 2 as a function as the offset on the trajectory\"\"\"\n",
    "    offset = offset * 1e-9\n",
    "    z = raw_data[:,2] * 0.0513 * 1e-6\n",
    "    z = z-np.min(z)\n",
    "    z = z-offset\n",
    "    z_hist, _, P_z= logarithmic_hist(z, 39e-9, 2e-6, num=20)\n",
    "    F_eq =  np.gradient(np.log(P_z), z_hist) * 4e-21\n",
    "    #return z_hist, P_z\n",
    "    return np.mean((F_eq*1e15 - f_th(z_hist)*1e15) ** 2)\n",
    "\n",
    "    \n",
    "    \n",
    "    "
   ]
  },
  {
   "cell_type": "code",
   "execution_count": 12,
   "id": "informative-greece",
   "metadata": {},
   "outputs": [
    {
     "ename": "NameError",
     "evalue": "name 'raw_data' is not defined",
     "output_type": "error",
     "traceback": [
      "\u001b[1;31m---------------------------------------------------------------------------\u001b[0m",
      "\u001b[1;31mNameError\u001b[0m                                 Traceback (most recent call last)",
      "\u001b[1;32m<ipython-input-12-97896b76bc90>\u001b[0m in \u001b[0;36m<module>\u001b[1;34m\u001b[0m\n\u001b[0;32m      1\u001b[0m \u001b[0mz_chi2\u001b[0m \u001b[1;33m=\u001b[0m \u001b[0mnp\u001b[0m\u001b[1;33m.\u001b[0m\u001b[0mlinspace\u001b[0m\u001b[1;33m(\u001b[0m\u001b[1;36m1\u001b[0m\u001b[1;33m,\u001b[0m \u001b[1;36m200\u001b[0m\u001b[1;33m,\u001b[0m \u001b[1;36m30\u001b[0m\u001b[1;33m)\u001b[0m\u001b[1;33m\u001b[0m\u001b[1;33m\u001b[0m\u001b[0m\n\u001b[1;32m----> 2\u001b[1;33m \u001b[0mchi_2\u001b[0m \u001b[1;33m=\u001b[0m \u001b[1;33m[\u001b[0m\u001b[0mchi_2_force\u001b[0m\u001b[1;33m(\u001b[0m\u001b[0mi\u001b[0m\u001b[1;33m)\u001b[0m \u001b[1;32mfor\u001b[0m \u001b[0mi\u001b[0m \u001b[1;32min\u001b[0m \u001b[0mz_chi2\u001b[0m\u001b[1;33m]\u001b[0m\u001b[1;33m\u001b[0m\u001b[1;33m\u001b[0m\u001b[0m\n\u001b[0m",
      "\u001b[1;32m<ipython-input-12-97896b76bc90>\u001b[0m in \u001b[0;36m<listcomp>\u001b[1;34m(.0)\u001b[0m\n\u001b[0;32m      1\u001b[0m \u001b[0mz_chi2\u001b[0m \u001b[1;33m=\u001b[0m \u001b[0mnp\u001b[0m\u001b[1;33m.\u001b[0m\u001b[0mlinspace\u001b[0m\u001b[1;33m(\u001b[0m\u001b[1;36m1\u001b[0m\u001b[1;33m,\u001b[0m \u001b[1;36m200\u001b[0m\u001b[1;33m,\u001b[0m \u001b[1;36m30\u001b[0m\u001b[1;33m)\u001b[0m\u001b[1;33m\u001b[0m\u001b[1;33m\u001b[0m\u001b[0m\n\u001b[1;32m----> 2\u001b[1;33m \u001b[0mchi_2\u001b[0m \u001b[1;33m=\u001b[0m \u001b[1;33m[\u001b[0m\u001b[0mchi_2_force\u001b[0m\u001b[1;33m(\u001b[0m\u001b[0mi\u001b[0m\u001b[1;33m)\u001b[0m \u001b[1;32mfor\u001b[0m \u001b[0mi\u001b[0m \u001b[1;32min\u001b[0m \u001b[0mz_chi2\u001b[0m\u001b[1;33m]\u001b[0m\u001b[1;33m\u001b[0m\u001b[1;33m\u001b[0m\u001b[0m\n\u001b[0m",
      "\u001b[1;32m<ipython-input-11-4f0b3179e228>\u001b[0m in \u001b[0;36mchi_2_force\u001b[1;34m(offset)\u001b[0m\n\u001b[0;32m      2\u001b[0m     \u001b[1;34m\"\"\" Function that permits to directly measure the chi 2 as a function as the offset on the trajectory\"\"\"\u001b[0m\u001b[1;33m\u001b[0m\u001b[1;33m\u001b[0m\u001b[0m\n\u001b[0;32m      3\u001b[0m     \u001b[0moffset\u001b[0m \u001b[1;33m=\u001b[0m \u001b[0moffset\u001b[0m \u001b[1;33m*\u001b[0m \u001b[1;36m1e-9\u001b[0m\u001b[1;33m\u001b[0m\u001b[1;33m\u001b[0m\u001b[0m\n\u001b[1;32m----> 4\u001b[1;33m     \u001b[0mz\u001b[0m \u001b[1;33m=\u001b[0m \u001b[0mraw_data\u001b[0m\u001b[1;33m[\u001b[0m\u001b[1;33m:\u001b[0m\u001b[1;33m,\u001b[0m\u001b[1;36m2\u001b[0m\u001b[1;33m]\u001b[0m \u001b[1;33m*\u001b[0m \u001b[1;36m0.0513\u001b[0m \u001b[1;33m*\u001b[0m \u001b[1;36m1e-6\u001b[0m\u001b[1;33m\u001b[0m\u001b[1;33m\u001b[0m\u001b[0m\n\u001b[0m\u001b[0;32m      5\u001b[0m     \u001b[0mz\u001b[0m \u001b[1;33m=\u001b[0m \u001b[0mz\u001b[0m\u001b[1;33m-\u001b[0m\u001b[0mnp\u001b[0m\u001b[1;33m.\u001b[0m\u001b[0mmin\u001b[0m\u001b[1;33m(\u001b[0m\u001b[0mz\u001b[0m\u001b[1;33m)\u001b[0m\u001b[1;33m\u001b[0m\u001b[1;33m\u001b[0m\u001b[0m\n\u001b[0;32m      6\u001b[0m     \u001b[0mz\u001b[0m \u001b[1;33m=\u001b[0m \u001b[0mz\u001b[0m\u001b[1;33m-\u001b[0m\u001b[0moffset\u001b[0m\u001b[1;33m\u001b[0m\u001b[1;33m\u001b[0m\u001b[0m\n",
      "\u001b[1;31mNameError\u001b[0m: name 'raw_data' is not defined"
     ]
    }
   ],
   "source": [
    "z_chi2 = np.linspace(1, 200, 30)\n",
    "chi_2 = [chi_2_force(i) for i in z_chi2]"
   ]
  },
  {
   "cell_type": "code",
   "execution_count": 13,
   "id": "dimensional-marathon",
   "metadata": {},
   "outputs": [
    {
     "ename": "NameError",
     "evalue": "name 'chi_2' is not defined",
     "output_type": "error",
     "traceback": [
      "\u001b[1;31m---------------------------------------------------------------------------\u001b[0m",
      "\u001b[1;31mNameError\u001b[0m                                 Traceback (most recent call last)",
      "\u001b[1;32m<ipython-input-13-c3349683bfde>\u001b[0m in \u001b[0;36m<module>\u001b[1;34m\u001b[0m\n\u001b[1;32m----> 1\u001b[1;33m \u001b[0mplt\u001b[0m\u001b[1;33m.\u001b[0m\u001b[0mplot\u001b[0m\u001b[1;33m(\u001b[0m\u001b[0mz_chi2\u001b[0m\u001b[1;33m,\u001b[0m \u001b[0mchi_2\u001b[0m \u001b[1;33m/\u001b[0m \u001b[0mmax\u001b[0m\u001b[1;33m(\u001b[0m\u001b[0mchi_2\u001b[0m\u001b[1;33m)\u001b[0m\u001b[1;33m,\u001b[0m \u001b[1;34m\"o\"\u001b[0m\u001b[1;33m)\u001b[0m\u001b[1;33m\u001b[0m\u001b[1;33m\u001b[0m\u001b[0m\n\u001b[0m\u001b[0;32m      2\u001b[0m \u001b[0mplt\u001b[0m\u001b[1;33m.\u001b[0m\u001b[0mxlabel\u001b[0m\u001b[1;33m(\u001b[0m\u001b[1;34m\"$z$ (nm)\"\u001b[0m\u001b[1;33m)\u001b[0m\u001b[1;33m\u001b[0m\u001b[1;33m\u001b[0m\u001b[0m\n\u001b[0;32m      3\u001b[0m \u001b[0mplt\u001b[0m\u001b[1;33m.\u001b[0m\u001b[0mylabel\u001b[0m\u001b[1;33m(\u001b[0m\u001b[1;34m\"$\\chi ^2 / max(\\chi^2) $\"\u001b[0m\u001b[1;33m)\u001b[0m\u001b[1;33m\u001b[0m\u001b[1;33m\u001b[0m\u001b[0m\n",
      "\u001b[1;31mNameError\u001b[0m: name 'chi_2' is not defined"
     ]
    }
   ],
   "source": [
    "plt.plot(z_chi2, chi_2 / max(chi_2), \"o\")\n",
    "plt.xlabel(\"$z$ (nm)\")\n",
    "plt.ylabel(\"$\\chi ^2 / max(\\chi^2) $\")"
   ]
  },
  {
   "cell_type": "markdown",
   "id": "united-projection",
   "metadata": {},
   "source": [
    "Okay ! we see that we have a minimum around $62.5$ nanometers, let's have a better measurement with the minimize algorithm ! "
   ]
  },
  {
   "cell_type": "code",
   "execution_count": 14,
   "id": "nasty-tolerance",
   "metadata": {},
   "outputs": [
    {
     "ename": "NameError",
     "evalue": "name 'raw_data' is not defined",
     "output_type": "error",
     "traceback": [
      "\u001b[1;31m---------------------------------------------------------------------------\u001b[0m",
      "\u001b[1;31mNameError\u001b[0m                                 Traceback (most recent call last)",
      "\u001b[1;32m<ipython-input-14-60e89dd25fab>\u001b[0m in \u001b[0;36m<module>\u001b[1;34m\u001b[0m\n\u001b[1;32m----> 1\u001b[1;33m \u001b[0mminimize\u001b[0m\u001b[1;33m(\u001b[0m\u001b[0mchi_2_force\u001b[0m\u001b[1;33m,\u001b[0m \u001b[0mx0\u001b[0m \u001b[1;33m=\u001b[0m \u001b[1;36m62.5\u001b[0m\u001b[1;33m,\u001b[0m  \u001b[0mmethod\u001b[0m\u001b[1;33m=\u001b[0m\u001b[1;34m'Nelder-Mead'\u001b[0m\u001b[1;33m,\u001b[0m \u001b[0mtol\u001b[0m\u001b[1;33m=\u001b[0m\u001b[1;36m1e-40\u001b[0m\u001b[1;33m)\u001b[0m\u001b[1;33m\u001b[0m\u001b[1;33m\u001b[0m\u001b[0m\n\u001b[0m",
      "\u001b[1;32m~\\miniconda3\\envs\\holopy\\lib\\site-packages\\scipy\\optimize\\_minimize.py\u001b[0m in \u001b[0;36mminimize\u001b[1;34m(fun, x0, args, method, jac, hess, hessp, bounds, constraints, tol, callback, options)\u001b[0m\n\u001b[0;32m    606\u001b[0m \u001b[1;33m\u001b[0m\u001b[0m\n\u001b[0;32m    607\u001b[0m     \u001b[1;32mif\u001b[0m \u001b[0mmeth\u001b[0m \u001b[1;33m==\u001b[0m \u001b[1;34m'nelder-mead'\u001b[0m\u001b[1;33m:\u001b[0m\u001b[1;33m\u001b[0m\u001b[1;33m\u001b[0m\u001b[0m\n\u001b[1;32m--> 608\u001b[1;33m         \u001b[1;32mreturn\u001b[0m \u001b[0m_minimize_neldermead\u001b[0m\u001b[1;33m(\u001b[0m\u001b[0mfun\u001b[0m\u001b[1;33m,\u001b[0m \u001b[0mx0\u001b[0m\u001b[1;33m,\u001b[0m \u001b[0margs\u001b[0m\u001b[1;33m,\u001b[0m \u001b[0mcallback\u001b[0m\u001b[1;33m,\u001b[0m \u001b[1;33m**\u001b[0m\u001b[0moptions\u001b[0m\u001b[1;33m)\u001b[0m\u001b[1;33m\u001b[0m\u001b[1;33m\u001b[0m\u001b[0m\n\u001b[0m\u001b[0;32m    609\u001b[0m     \u001b[1;32melif\u001b[0m \u001b[0mmeth\u001b[0m \u001b[1;33m==\u001b[0m \u001b[1;34m'powell'\u001b[0m\u001b[1;33m:\u001b[0m\u001b[1;33m\u001b[0m\u001b[1;33m\u001b[0m\u001b[0m\n\u001b[0;32m    610\u001b[0m         \u001b[1;32mreturn\u001b[0m \u001b[0m_minimize_powell\u001b[0m\u001b[1;33m(\u001b[0m\u001b[0mfun\u001b[0m\u001b[1;33m,\u001b[0m \u001b[0mx0\u001b[0m\u001b[1;33m,\u001b[0m \u001b[0margs\u001b[0m\u001b[1;33m,\u001b[0m \u001b[0mcallback\u001b[0m\u001b[1;33m,\u001b[0m \u001b[0mbounds\u001b[0m\u001b[1;33m,\u001b[0m \u001b[1;33m**\u001b[0m\u001b[0moptions\u001b[0m\u001b[1;33m)\u001b[0m\u001b[1;33m\u001b[0m\u001b[1;33m\u001b[0m\u001b[0m\n",
      "\u001b[1;32m~\\miniconda3\\envs\\holopy\\lib\\site-packages\\scipy\\optimize\\optimize.py\u001b[0m in \u001b[0;36m_minimize_neldermead\u001b[1;34m(func, x0, args, callback, maxiter, maxfev, disp, return_all, initial_simplex, xatol, fatol, adaptive, **unknown_options)\u001b[0m\n\u001b[0;32m    721\u001b[0m \u001b[1;33m\u001b[0m\u001b[0m\n\u001b[0;32m    722\u001b[0m     \u001b[1;32mfor\u001b[0m \u001b[0mk\u001b[0m \u001b[1;32min\u001b[0m \u001b[0mrange\u001b[0m\u001b[1;33m(\u001b[0m\u001b[0mN\u001b[0m \u001b[1;33m+\u001b[0m \u001b[1;36m1\u001b[0m\u001b[1;33m)\u001b[0m\u001b[1;33m:\u001b[0m\u001b[1;33m\u001b[0m\u001b[1;33m\u001b[0m\u001b[0m\n\u001b[1;32m--> 723\u001b[1;33m         \u001b[0mfsim\u001b[0m\u001b[1;33m[\u001b[0m\u001b[0mk\u001b[0m\u001b[1;33m]\u001b[0m \u001b[1;33m=\u001b[0m \u001b[0mfunc\u001b[0m\u001b[1;33m(\u001b[0m\u001b[0msim\u001b[0m\u001b[1;33m[\u001b[0m\u001b[0mk\u001b[0m\u001b[1;33m]\u001b[0m\u001b[1;33m)\u001b[0m\u001b[1;33m\u001b[0m\u001b[1;33m\u001b[0m\u001b[0m\n\u001b[0m\u001b[0;32m    724\u001b[0m \u001b[1;33m\u001b[0m\u001b[0m\n\u001b[0;32m    725\u001b[0m     \u001b[0mind\u001b[0m \u001b[1;33m=\u001b[0m \u001b[0mnp\u001b[0m\u001b[1;33m.\u001b[0m\u001b[0margsort\u001b[0m\u001b[1;33m(\u001b[0m\u001b[0mfsim\u001b[0m\u001b[1;33m)\u001b[0m\u001b[1;33m\u001b[0m\u001b[1;33m\u001b[0m\u001b[0m\n",
      "\u001b[1;32m~\\miniconda3\\envs\\holopy\\lib\\site-packages\\scipy\\optimize\\optimize.py\u001b[0m in \u001b[0;36mfunction_wrapper\u001b[1;34m(*wrapper_args)\u001b[0m\n\u001b[0;32m    459\u001b[0m     \u001b[1;32mdef\u001b[0m \u001b[0mfunction_wrapper\u001b[0m\u001b[1;33m(\u001b[0m\u001b[1;33m*\u001b[0m\u001b[0mwrapper_args\u001b[0m\u001b[1;33m)\u001b[0m\u001b[1;33m:\u001b[0m\u001b[1;33m\u001b[0m\u001b[1;33m\u001b[0m\u001b[0m\n\u001b[0;32m    460\u001b[0m         \u001b[0mncalls\u001b[0m\u001b[1;33m[\u001b[0m\u001b[1;36m0\u001b[0m\u001b[1;33m]\u001b[0m \u001b[1;33m+=\u001b[0m \u001b[1;36m1\u001b[0m\u001b[1;33m\u001b[0m\u001b[1;33m\u001b[0m\u001b[0m\n\u001b[1;32m--> 461\u001b[1;33m         \u001b[1;32mreturn\u001b[0m \u001b[0mfunction\u001b[0m\u001b[1;33m(\u001b[0m\u001b[1;33m*\u001b[0m\u001b[1;33m(\u001b[0m\u001b[0mwrapper_args\u001b[0m \u001b[1;33m+\u001b[0m \u001b[0margs\u001b[0m\u001b[1;33m)\u001b[0m\u001b[1;33m)\u001b[0m\u001b[1;33m\u001b[0m\u001b[1;33m\u001b[0m\u001b[0m\n\u001b[0m\u001b[0;32m    462\u001b[0m \u001b[1;33m\u001b[0m\u001b[0m\n\u001b[0;32m    463\u001b[0m     \u001b[1;32mreturn\u001b[0m \u001b[0mncalls\u001b[0m\u001b[1;33m,\u001b[0m \u001b[0mfunction_wrapper\u001b[0m\u001b[1;33m\u001b[0m\u001b[1;33m\u001b[0m\u001b[0m\n",
      "\u001b[1;32m<ipython-input-11-4f0b3179e228>\u001b[0m in \u001b[0;36mchi_2_force\u001b[1;34m(offset)\u001b[0m\n\u001b[0;32m      2\u001b[0m     \u001b[1;34m\"\"\" Function that permits to directly measure the chi 2 as a function as the offset on the trajectory\"\"\"\u001b[0m\u001b[1;33m\u001b[0m\u001b[1;33m\u001b[0m\u001b[0m\n\u001b[0;32m      3\u001b[0m     \u001b[0moffset\u001b[0m \u001b[1;33m=\u001b[0m \u001b[0moffset\u001b[0m \u001b[1;33m*\u001b[0m \u001b[1;36m1e-9\u001b[0m\u001b[1;33m\u001b[0m\u001b[1;33m\u001b[0m\u001b[0m\n\u001b[1;32m----> 4\u001b[1;33m     \u001b[0mz\u001b[0m \u001b[1;33m=\u001b[0m \u001b[0mraw_data\u001b[0m\u001b[1;33m[\u001b[0m\u001b[1;33m:\u001b[0m\u001b[1;33m,\u001b[0m\u001b[1;36m2\u001b[0m\u001b[1;33m]\u001b[0m \u001b[1;33m*\u001b[0m \u001b[1;36m0.0513\u001b[0m \u001b[1;33m*\u001b[0m \u001b[1;36m1e-6\u001b[0m\u001b[1;33m\u001b[0m\u001b[1;33m\u001b[0m\u001b[0m\n\u001b[0m\u001b[0;32m      5\u001b[0m     \u001b[0mz\u001b[0m \u001b[1;33m=\u001b[0m \u001b[0mz\u001b[0m\u001b[1;33m-\u001b[0m\u001b[0mnp\u001b[0m\u001b[1;33m.\u001b[0m\u001b[0mmin\u001b[0m\u001b[1;33m(\u001b[0m\u001b[0mz\u001b[0m\u001b[1;33m)\u001b[0m\u001b[1;33m\u001b[0m\u001b[1;33m\u001b[0m\u001b[0m\n\u001b[0;32m      6\u001b[0m     \u001b[0mz\u001b[0m \u001b[1;33m=\u001b[0m \u001b[0mz\u001b[0m\u001b[1;33m-\u001b[0m\u001b[0moffset\u001b[0m\u001b[1;33m\u001b[0m\u001b[1;33m\u001b[0m\u001b[0m\n",
      "\u001b[1;31mNameError\u001b[0m: name 'raw_data' is not defined"
     ]
    }
   ],
   "source": [
    "minimize(chi_2_force, x0 = 62.5,  method='Nelder-Mead', tol=1e-40)"
   ]
  },
  {
   "cell_type": "markdown",
   "id": "lovely-medication",
   "metadata": {},
   "source": [
    "we see that the offset sould be equal to $62 ~ \\mathrm{nm}$. Giving the following force :"
   ]
  },
  {
   "cell_type": "code",
   "execution_count": 15,
   "id": "level-brunei",
   "metadata": {},
   "outputs": [
    {
     "ename": "NameError",
     "evalue": "name 'raw_data' is not defined",
     "output_type": "error",
     "traceback": [
      "\u001b[1;31m---------------------------------------------------------------------------\u001b[0m",
      "\u001b[1;31mNameError\u001b[0m                                 Traceback (most recent call last)",
      "\u001b[1;32m<ipython-input-15-864dcd7d96f2>\u001b[0m in \u001b[0;36m<module>\u001b[1;34m\u001b[0m\n\u001b[0;32m      1\u001b[0m \u001b[0moffset\u001b[0m \u001b[1;33m=\u001b[0m \u001b[1;36m62\u001b[0m \u001b[1;33m*\u001b[0m \u001b[1;36m1e-9\u001b[0m\u001b[1;33m\u001b[0m\u001b[1;33m\u001b[0m\u001b[0m\n\u001b[1;32m----> 2\u001b[1;33m \u001b[0mz\u001b[0m \u001b[1;33m=\u001b[0m \u001b[0mraw_data\u001b[0m\u001b[1;33m[\u001b[0m\u001b[1;33m:\u001b[0m\u001b[1;33m,\u001b[0m\u001b[1;36m2\u001b[0m\u001b[1;33m]\u001b[0m \u001b[1;33m*\u001b[0m \u001b[1;36m0.0513\u001b[0m \u001b[1;33m*\u001b[0m \u001b[1;36m1e-6\u001b[0m\u001b[1;33m\u001b[0m\u001b[1;33m\u001b[0m\u001b[0m\n\u001b[0m\u001b[0;32m      3\u001b[0m \u001b[0mz\u001b[0m \u001b[1;33m=\u001b[0m \u001b[0mz\u001b[0m\u001b[1;33m-\u001b[0m\u001b[0mnp\u001b[0m\u001b[1;33m.\u001b[0m\u001b[0mmin\u001b[0m\u001b[1;33m(\u001b[0m\u001b[0mz\u001b[0m\u001b[1;33m)\u001b[0m\u001b[1;33m\u001b[0m\u001b[1;33m\u001b[0m\u001b[0m\n\u001b[0;32m      4\u001b[0m \u001b[0mz\u001b[0m \u001b[1;33m=\u001b[0m \u001b[0mz\u001b[0m\u001b[1;33m-\u001b[0m\u001b[0moffset\u001b[0m\u001b[1;33m\u001b[0m\u001b[1;33m\u001b[0m\u001b[0m\n\u001b[0;32m      5\u001b[0m \u001b[0mz_hist\u001b[0m\u001b[1;33m,\u001b[0m \u001b[0m_\u001b[0m\u001b[1;33m,\u001b[0m \u001b[0mP_z\u001b[0m\u001b[1;33m=\u001b[0m \u001b[0mlogarithmic_hist\u001b[0m\u001b[1;33m(\u001b[0m\u001b[0mz\u001b[0m\u001b[1;33m,\u001b[0m \u001b[1;36m39e-9\u001b[0m\u001b[1;33m,\u001b[0m \u001b[1;36m2e-6\u001b[0m\u001b[1;33m,\u001b[0m \u001b[0mnum\u001b[0m\u001b[1;33m=\u001b[0m\u001b[1;36m50\u001b[0m\u001b[1;33m)\u001b[0m\u001b[1;33m\u001b[0m\u001b[1;33m\u001b[0m\u001b[0m\n",
      "\u001b[1;31mNameError\u001b[0m: name 'raw_data' is not defined"
     ]
    }
   ],
   "source": [
    "offset = 62 * 1e-9\n",
    "z = raw_data[:,2] * 0.0513 * 1e-6\n",
    "z = z-np.min(z)\n",
    "z = z-offset\n",
    "z_hist, _, P_z= logarithmic_hist(z, 39e-9, 2e-6, num=50)\n",
    "F_eq =  np.gradient(np.log(P_z), z_hist) * 4e-21"
   ]
  },
  {
   "cell_type": "code",
   "execution_count": 16,
   "id": "hungarian-madagascar",
   "metadata": {},
   "outputs": [
    {
     "ename": "NameError",
     "evalue": "name 'z_hist' is not defined",
     "output_type": "error",
     "traceback": [
      "\u001b[1;31m---------------------------------------------------------------------------\u001b[0m",
      "\u001b[1;31mNameError\u001b[0m                                 Traceback (most recent call last)",
      "\u001b[1;32m<ipython-input-16-740549b69b8f>\u001b[0m in \u001b[0;36m<module>\u001b[1;34m\u001b[0m\n\u001b[1;32m----> 1\u001b[1;33m \u001b[0mplt\u001b[0m\u001b[1;33m.\u001b[0m\u001b[0msemilogx\u001b[0m\u001b[1;33m(\u001b[0m\u001b[0mz_hist\u001b[0m\u001b[1;33m,\u001b[0m \u001b[0mF_eq\u001b[0m \u001b[1;33m*\u001b[0m \u001b[1;36m1e15\u001b[0m\u001b[1;33m,\u001b[0m \u001b[1;34m\"s\"\u001b[0m\u001b[1;33m,\u001b[0m \u001b[0mlabel\u001b[0m \u001b[1;33m=\u001b[0m \u001b[1;34m\"$F_{exp}$ form E\"\u001b[0m\u001b[1;33m)\u001b[0m\u001b[1;33m\u001b[0m\u001b[1;33m\u001b[0m\u001b[0m\n\u001b[0m\u001b[0;32m      2\u001b[0m \u001b[1;31m#plt.plot(z_F_th, F_th * 1e15, color = \"k\")\u001b[0m\u001b[1;33m\u001b[0m\u001b[1;33m\u001b[0m\u001b[1;33m\u001b[0m\u001b[0m\n\u001b[0;32m      3\u001b[0m \u001b[0mplt\u001b[0m\u001b[1;33m.\u001b[0m\u001b[0mplot\u001b[0m\u001b[1;33m(\u001b[0m\u001b[0mz_hist\u001b[0m\u001b[1;33m,\u001b[0m \u001b[0mf_th\u001b[0m\u001b[1;33m(\u001b[0m\u001b[0mz_hist\u001b[0m\u001b[1;33m)\u001b[0m \u001b[1;33m*\u001b[0m \u001b[1;36m1e15\u001b[0m\u001b[1;33m,\u001b[0m \u001b[0mcolor\u001b[0m \u001b[1;33m=\u001b[0m \u001b[1;34m\"k\"\u001b[0m\u001b[1;33m,\u001b[0m \u001b[0mlabel\u001b[0m \u001b[1;33m=\u001b[0m \u001b[1;34m\"$F_{th}$\"\u001b[0m\u001b[1;33m)\u001b[0m\u001b[1;33m\u001b[0m\u001b[1;33m\u001b[0m\u001b[0m\n\u001b[0;32m      4\u001b[0m \u001b[0mplt\u001b[0m\u001b[1;33m.\u001b[0m\u001b[0mxlabel\u001b[0m\u001b[1;33m(\u001b[0m\u001b[1;34m\"$z$ (m)\"\u001b[0m\u001b[1;33m)\u001b[0m\u001b[1;33m\u001b[0m\u001b[1;33m\u001b[0m\u001b[0m\n\u001b[0;32m      5\u001b[0m \u001b[0mplt\u001b[0m\u001b[1;33m.\u001b[0m\u001b[0mylabel\u001b[0m\u001b[1;33m(\u001b[0m\u001b[1;34m\"$F_{eq}$ (fN)\"\u001b[0m\u001b[1;33m)\u001b[0m\u001b[1;33m\u001b[0m\u001b[1;33m\u001b[0m\u001b[0m\n",
      "\u001b[1;31mNameError\u001b[0m: name 'z_hist' is not defined"
     ]
    }
   ],
   "source": [
    "plt.semilogx(z_hist, F_eq * 1e15, \"s\", label = \"$F_{exp}$ form E\")\n",
    "#plt.plot(z_F_th, F_th * 1e15, color = \"k\")\n",
    "plt.plot(z_hist, f_th(z_hist) * 1e15, color = \"k\", label = \"$F_{th}$\")\n",
    "plt.xlabel(\"$z$ (m)\") \n",
    "plt.ylabel(\"$F_{eq}$ (fN)\")\n",
    "plt.ylim((None,150))\n",
    "plt.legend()\n",
    "plt.show()"
   ]
  },
  {
   "cell_type": "markdown",
   "id": "visible-saturn",
   "metadata": {},
   "source": [
    "Now that we have verified that we corectly get the forces from the equilibrium probability density of height that permited us to measure the offset on the trajectory. \n",
    "\n",
    "Now that everything is set up correctly we can try to measure the forces from the local drifts.\n",
    "\n",
    "## Force measurement from the local drifts\n",
    "\n",
    "In order to measure the forces from the local drifts we are gonna use some moving average magiK. This will permit us to have a quasi continuous measurement.\n",
    "\n",
    "Bascicaly, the measurement is done in a few steps :\n",
    "\n",
    "* Compute the volocity array `(x[1:] - x[0:-1])/dt `\n",
    "\n",
    "* Sort the velocity and the height in the height order.\n",
    "\n",
    "* Do a moving average on the velocity\n",
    "\n",
    "* Compute the force : $F(z) = 6 \\pi \\eta(z) a \\langle v \\rangle $\n",
    "\n",
    "* Apply the correction due to the Itö convention on the force $ \\propto - \\frac{dD}{D}$\n",
    "\n",
    "\n"
   ]
  },
  {
   "cell_type": "code",
   "execution_count": 17,
   "id": "fallen-staff",
   "metadata": {},
   "outputs": [],
   "source": [
    "def movmean(x, w):\n",
    "    \"\"\" Moving average function using convolution \"\"\"\n",
    "    return np.convolve(x, np.ones(w), 'same') / w\n",
    "\n",
    "def movstd(x,w):\n",
    "    mean = movmean(x,w)\n",
    "    new_x = (x - mean)**2\n",
    "    return np.sqrt(movmean(new_x, w))\n",
    "\n",
    "def F_correction(alpha,z):\n",
    "    \"\"\" Function to compute the correction on the force measurement due to the ito convention\"\"\"\n",
    "    return - 4e-21 * alpha *(42*a*z*z + 24*a*a*z + 4*a*a*a)/(36*(z**4) + 66*a*(z**3) + 30*a*a*z*z + 4*(a**3)*z)\n",
    "def eta(z):\n",
    "    \"\"\"visosity along the z axis -- utlity function to measure the forces\"\"\"\n",
    "    result = ((6*z*z + 2*a*z) / (6*z*z + 9*a*z + 2*a*a))\n",
    "    return 1/result"
   ]
  },
  {
   "cell_type": "code",
   "execution_count": 18,
   "id": "union-lindsay",
   "metadata": {},
   "outputs": [
    {
     "ename": "NameError",
     "evalue": "name 'raw_data' is not defined",
     "output_type": "error",
     "traceback": [
      "\u001b[1;31m---------------------------------------------------------------------------\u001b[0m",
      "\u001b[1;31mNameError\u001b[0m                                 Traceback (most recent call last)",
      "\u001b[1;32m<ipython-input-18-a88c00b55112>\u001b[0m in \u001b[0;36m<module>\u001b[1;34m\u001b[0m\n\u001b[1;32m----> 1\u001b[1;33m \u001b[0mz_drifts\u001b[0m \u001b[1;33m=\u001b[0m \u001b[0mraw_data\u001b[0m\u001b[1;33m[\u001b[0m\u001b[1;33m:\u001b[0m\u001b[1;33m,\u001b[0m\u001b[1;36m2\u001b[0m\u001b[1;33m]\u001b[0m \u001b[1;33m*\u001b[0m \u001b[1;36m0.0513\u001b[0m \u001b[1;33m*\u001b[0m \u001b[1;36m1e-6\u001b[0m\u001b[1;33m\u001b[0m\u001b[1;33m\u001b[0m\u001b[0m\n\u001b[0m\u001b[0;32m      2\u001b[0m \u001b[0mz_drifts\u001b[0m \u001b[1;33m=\u001b[0m \u001b[0mz_drifts\u001b[0m \u001b[1;33m-\u001b[0m \u001b[0mnp\u001b[0m\u001b[1;33m.\u001b[0m\u001b[0mmin\u001b[0m\u001b[1;33m(\u001b[0m\u001b[0mz_drifts\u001b[0m\u001b[1;33m)\u001b[0m \u001b[1;33m-\u001b[0m \u001b[0moffset\u001b[0m\u001b[1;33m\u001b[0m\u001b[1;33m\u001b[0m\u001b[0m\n",
      "\u001b[1;31mNameError\u001b[0m: name 'raw_data' is not defined"
     ]
    }
   ],
   "source": [
    "z_drifts = raw_data[:,2] * 0.0513 * 1e-6\n",
    "z_drifts = z_drifts - np.min(z_drifts) - offset"
   ]
  },
  {
   "cell_type": "code",
   "execution_count": 19,
   "id": "national-consortium",
   "metadata": {},
   "outputs": [
    {
     "ename": "NameError",
     "evalue": "name 'z_drifts' is not defined",
     "output_type": "error",
     "traceback": [
      "\u001b[1;31m---------------------------------------------------------------------------\u001b[0m",
      "\u001b[1;31mNameError\u001b[0m                                 Traceback (most recent call last)",
      "\u001b[1;32m<ipython-input-19-146caf9004bf>\u001b[0m in \u001b[0;36m<module>\u001b[1;34m\u001b[0m\n\u001b[0;32m      1\u001b[0m \u001b[1;31m# On calcul les vitesses:\u001b[0m\u001b[1;33m\u001b[0m\u001b[1;33m\u001b[0m\u001b[1;33m\u001b[0m\u001b[0m\n\u001b[0;32m      2\u001b[0m \u001b[0mdt\u001b[0m \u001b[1;33m=\u001b[0m \u001b[1;36m1\u001b[0m\u001b[1;33m/\u001b[0m\u001b[1;36m60\u001b[0m \u001b[1;31m# 60 fps\u001b[0m\u001b[1;33m\u001b[0m\u001b[1;33m\u001b[0m\u001b[0m\n\u001b[1;32m----> 3\u001b[1;33m \u001b[0mv\u001b[0m \u001b[1;33m=\u001b[0m \u001b[1;33m(\u001b[0m\u001b[0mz_drifts\u001b[0m\u001b[1;33m[\u001b[0m\u001b[1;36m1\u001b[0m\u001b[1;33m:\u001b[0m\u001b[1;33m]\u001b[0m \u001b[1;33m-\u001b[0m \u001b[0mz_drifts\u001b[0m\u001b[1;33m[\u001b[0m\u001b[1;33m:\u001b[0m\u001b[1;33m-\u001b[0m\u001b[1;36m1\u001b[0m\u001b[1;33m]\u001b[0m\u001b[1;33m)\u001b[0m \u001b[1;33m/\u001b[0m \u001b[0mdt\u001b[0m\u001b[1;33m\u001b[0m\u001b[1;33m\u001b[0m\u001b[0m\n\u001b[0m\u001b[0;32m      4\u001b[0m \u001b[0mz_drifts\u001b[0m \u001b[1;33m=\u001b[0m \u001b[0mz_drifts\u001b[0m\u001b[1;33m[\u001b[0m\u001b[1;33m:\u001b[0m\u001b[1;33m-\u001b[0m\u001b[1;36m1\u001b[0m\u001b[1;33m]\u001b[0m \u001b[1;31m# Convention Itö -> on attribue la vitesse a z_1\u001b[0m\u001b[1;33m\u001b[0m\u001b[1;33m\u001b[0m\u001b[0m\n\u001b[0;32m      5\u001b[0m \u001b[0mv\u001b[0m \u001b[1;33m=\u001b[0m \u001b[0mv\u001b[0m\u001b[1;33m[\u001b[0m\u001b[0mz_drifts\u001b[0m\u001b[1;33m.\u001b[0m\u001b[0margsort\u001b[0m\u001b[1;33m(\u001b[0m\u001b[1;33m)\u001b[0m\u001b[1;33m]\u001b[0m \u001b[1;31m# on tri les vitesse en fonction de la hauteur\u001b[0m\u001b[1;33m\u001b[0m\u001b[1;33m\u001b[0m\u001b[0m\n",
      "\u001b[1;31mNameError\u001b[0m: name 'z_drifts' is not defined"
     ]
    }
   ],
   "source": [
    "# On calcul les vitesses:\n",
    "dt = 1/60 # 60 fps\n",
    "v = (z_drifts[1:] - z_drifts[:-1]) / dt\n",
    "z_drifts = z_drifts[:-1] # Convention Itö -> on attribue la vitesse a z_1\n",
    "v = v[z_drifts.argsort()] # on tri les vitesse en fonction de la hauteur\n",
    "z_drifts = np.sort(z_drifts) # on tri les hauteurs.\n",
    "\n"
   ]
  },
  {
   "cell_type": "markdown",
   "id": "olive-adaptation",
   "metadata": {},
   "source": [
    "We can also compute the error on the force :\n",
    "\n",
    "\\begin{equation}\n",
    "Err_f = \\sqrt{24 \\pi k_\\mathrm{B} T \\eta_z(z) a / \\tau_{box} }\n",
    "\\end{equation}\n",
    "\n",
    "with $\\tau_{box} = w_{average} / \\mathrm{fps}$, $w_{average}$ being the width of the moving average."
   ]
  },
  {
   "cell_type": "code",
   "execution_count": 20,
   "id": "painted-rogers",
   "metadata": {},
   "outputs": [
    {
     "ename": "NameError",
     "evalue": "name 'z_drifts' is not defined",
     "output_type": "error",
     "traceback": [
      "\u001b[1;31m---------------------------------------------------------------------------\u001b[0m",
      "\u001b[1;31mNameError\u001b[0m                                 Traceback (most recent call last)",
      "\u001b[1;32m<ipython-input-20-59b115caf387>\u001b[0m in \u001b[0;36m<module>\u001b[1;34m\u001b[0m\n\u001b[0;32m      2\u001b[0m \u001b[0mw\u001b[0m \u001b[1;33m=\u001b[0m \u001b[1;36m1500\u001b[0m\u001b[1;33m\u001b[0m\u001b[1;33m\u001b[0m\u001b[0m\n\u001b[0;32m      3\u001b[0m \u001b[0ma\u001b[0m \u001b[1;33m=\u001b[0m \u001b[1;36m1.516e-6\u001b[0m\u001b[1;33m\u001b[0m\u001b[1;33m\u001b[0m\u001b[0m\n\u001b[1;32m----> 4\u001b[1;33m \u001b[0mF_drifts\u001b[0m \u001b[1;33m=\u001b[0m \u001b[1;36m6\u001b[0m \u001b[1;33m*\u001b[0m \u001b[0mnp\u001b[0m\u001b[1;33m.\u001b[0m\u001b[0mpi\u001b[0m \u001b[1;33m*\u001b[0m \u001b[1;36m0.001\u001b[0m \u001b[1;33m*\u001b[0m \u001b[0meta\u001b[0m\u001b[1;33m(\u001b[0m\u001b[0mz_drifts\u001b[0m\u001b[1;33m)\u001b[0m \u001b[1;33m*\u001b[0m \u001b[0ma\u001b[0m \u001b[1;33m*\u001b[0m \u001b[0mmovmean\u001b[0m\u001b[1;33m(\u001b[0m\u001b[0mv\u001b[0m\u001b[1;33m,\u001b[0m \u001b[0mw\u001b[0m\u001b[1;33m)\u001b[0m\u001b[1;33m\u001b[0m\u001b[1;33m\u001b[0m\u001b[0m\n\u001b[0m\u001b[0;32m      5\u001b[0m \u001b[0mF_drifts\u001b[0m \u001b[1;33m=\u001b[0m \u001b[0mF_drifts\u001b[0m \u001b[1;33m+\u001b[0m \u001b[0mF_correction\u001b[0m\u001b[1;33m(\u001b[0m\u001b[1;36m1\u001b[0m\u001b[1;33m,\u001b[0m \u001b[0mz_drifts\u001b[0m\u001b[1;33m)\u001b[0m\u001b[1;33m\u001b[0m\u001b[1;33m\u001b[0m\u001b[0m\n\u001b[0;32m      6\u001b[0m \u001b[1;31m#F_err = np.sqrt(24 * np.pi * 4e-21 *0.001*  eta(z_drifts) * a / (w*dt))\u001b[0m\u001b[1;33m\u001b[0m\u001b[1;33m\u001b[0m\u001b[1;33m\u001b[0m\u001b[0m\n",
      "\u001b[1;31mNameError\u001b[0m: name 'z_drifts' is not defined"
     ]
    }
   ],
   "source": [
    "# Let's do some moving average magic ! ;)\n",
    "w = 1500\n",
    "a = 1.516e-6\n",
    "F_drifts = 6 * np.pi * 0.001 * eta(z_drifts) * a * movmean(v, w)\n",
    "F_drifts = F_drifts + F_correction(1, z_drifts)\n",
    "#F_err = np.sqrt(24 * np.pi * 4e-21 *0.001*  eta(z_drifts) * a / (w*dt))\n",
    "F_exp_err = 6 * np.pi * 0.001 * eta(z_drifts) * a * movstd(v, w)\n",
    "z_th = np.linspace(10e-9, 4e-6, 1000)\n",
    "\n",
    "F_err_th = np.sqrt(24 * np.pi * 4e-21 *0.001*  eta(z_th) * a / (w*dt))\n",
    "F_drift_th = f_th(z_th)"
   ]
  },
  {
   "cell_type": "code",
   "execution_count": 21,
   "id": "measured-flush",
   "metadata": {},
   "outputs": [
    {
     "ename": "NameError",
     "evalue": "name 'z_hist' is not defined",
     "output_type": "error",
     "traceback": [
      "\u001b[1;31m---------------------------------------------------------------------------\u001b[0m",
      "\u001b[1;31mNameError\u001b[0m                                 Traceback (most recent call last)",
      "\u001b[1;32m<ipython-input-21-6a20a54fcbdf>\u001b[0m in \u001b[0;36m<module>\u001b[1;34m\u001b[0m\n\u001b[1;32m----> 1\u001b[1;33m \u001b[0mplt\u001b[0m\u001b[1;33m.\u001b[0m\u001b[0msemilogx\u001b[0m\u001b[1;33m(\u001b[0m\u001b[0mz_hist\u001b[0m\u001b[1;33m,\u001b[0m \u001b[0mF_eq\u001b[0m \u001b[1;33m*\u001b[0m \u001b[1;36m1e15\u001b[0m\u001b[1;33m,\u001b[0m \u001b[1;34m\"s\"\u001b[0m\u001b[1;33m,\u001b[0m \u001b[0mlabel\u001b[0m \u001b[1;33m=\u001b[0m \u001b[1;34m\"$F_{exp}$ form E\"\u001b[0m\u001b[1;33m,\u001b[0m \u001b[0mzorder\u001b[0m \u001b[1;33m=\u001b[0m \u001b[1;36m10\u001b[0m\u001b[1;33m)\u001b[0m\u001b[1;33m\u001b[0m\u001b[1;33m\u001b[0m\u001b[0m\n\u001b[0m\u001b[0;32m      2\u001b[0m \u001b[0mplt\u001b[0m\u001b[1;33m.\u001b[0m\u001b[0mplot\u001b[0m\u001b[1;33m(\u001b[0m\u001b[0mz_drifts\u001b[0m\u001b[1;33m,\u001b[0m \u001b[0mF_drifts\u001b[0m \u001b[1;33m*\u001b[0m \u001b[1;36m1e15\u001b[0m\u001b[1;33m,\u001b[0m \u001b[0mcolor\u001b[0m \u001b[1;33m=\u001b[0m \u001b[1;34m\"tab:cyan\"\u001b[0m\u001b[1;33m,\u001b[0m \u001b[0mlabel\u001b[0m \u001b[1;33m=\u001b[0m \u001b[1;34m\"local drift force\"\u001b[0m\u001b[1;33m)\u001b[0m\u001b[1;33m\u001b[0m\u001b[1;33m\u001b[0m\u001b[0m\n\u001b[0;32m      3\u001b[0m \u001b[0mplt\u001b[0m\u001b[1;33m.\u001b[0m\u001b[0msemilogx\u001b[0m\u001b[1;33m(\u001b[0m\u001b[0mz_th\u001b[0m\u001b[1;33m,\u001b[0m \u001b[0mF_drift_th\u001b[0m  \u001b[1;33m*\u001b[0m \u001b[1;36m1e15\u001b[0m\u001b[1;33m,\u001b[0m \u001b[0mcolor\u001b[0m \u001b[1;33m=\u001b[0m \u001b[1;34m\"k\"\u001b[0m\u001b[1;33m,\u001b[0m \u001b[0mzorder\u001b[0m \u001b[1;33m=\u001b[0m \u001b[1;36m11\u001b[0m\u001b[1;33m,\u001b[0m \u001b[0mlabel\u001b[0m\u001b[1;33m=\u001b[0m\u001b[1;34m\"multifit force\"\u001b[0m\u001b[1;33m)\u001b[0m\u001b[1;33m\u001b[0m\u001b[1;33m\u001b[0m\u001b[0m\n\u001b[0;32m      4\u001b[0m \u001b[1;31m#plt.fill_between(z_drifts, F_drifts * 1e15 - F_exp_err*1e15, F_drifts * 1e15 + F_exp_err*1e15, alpha = 0.5, color = \"tab:purple\", label=\"drift force error\")\u001b[0m\u001b[1;33m\u001b[0m\u001b[1;33m\u001b[0m\u001b[1;33m\u001b[0m\u001b[0m\n\u001b[0;32m      5\u001b[0m \u001b[0mplt\u001b[0m\u001b[1;33m.\u001b[0m\u001b[0mylim\u001b[0m\u001b[1;33m(\u001b[0m\u001b[1;33m(\u001b[0m\u001b[1;33m-\u001b[0m\u001b[1;36m40\u001b[0m\u001b[1;33m,\u001b[0m \u001b[1;36m300\u001b[0m\u001b[1;33m)\u001b[0m\u001b[1;33m)\u001b[0m\u001b[1;33m\u001b[0m\u001b[1;33m\u001b[0m\u001b[0m\n",
      "\u001b[1;31mNameError\u001b[0m: name 'z_hist' is not defined"
     ]
    }
   ],
   "source": [
    "plt.semilogx(z_hist, F_eq * 1e15, \"s\", label = \"$F_{exp}$ form E\", zorder = 10)\n",
    "plt.plot(z_drifts, F_drifts * 1e15, color = \"tab:cyan\", label = \"local drift force\")\n",
    "plt.semilogx(z_th, F_drift_th  * 1e15, color = \"k\", zorder = 11, label=\"multifit force\")\n",
    "#plt.fill_between(z_drifts, F_drifts * 1e15 - F_exp_err*1e15, F_drifts * 1e15 + F_exp_err*1e15, alpha = 0.5, color = \"tab:purple\", label=\"drift force error\")\n",
    "plt.ylim((-40, 300)) \n",
    "plt.xlim((10e-9,None))\n",
    "plt.legend()\n",
    "plt.xlabel(\"$z$ (m)\") \n",
    "plt.ylabel(\"$F_{eq}$ (fN)\")\n",
    "plt.show()"
   ]
  },
  {
   "cell_type": "markdown",
   "id": "intelligent-journey",
   "metadata": {},
   "source": [
    "same plot but with fewer points\n"
   ]
  },
  {
   "cell_type": "code",
   "execution_count": 42,
   "id": "norwegian-watts",
   "metadata": {},
   "outputs": [
    {
     "data": {
      "image/png": "[encoded data removed]",
      "text/plain": [
       "<Figure size 780x520 with 1 Axes>"
      ]
     },
     "metadata": {
      "needs_background": "light"
     },
     "output_type": "display_data"
    }
   ],
   "source": [
    "plt.plot(z_hist, F_eq * 1e15, \"s\", label = \"$local form U\", zorder = 10)\n",
    "plt.errorbar(z_drifts[::2000],F_drifts[::2000] * 1e15,linestyle=\"\", marker=\"o\", label = \"local drift force\")\n",
    "plt.semilogx(z_th, F_drift_th  * 1e15, color = \"k\", zorder = 11, label=\"multifit force\")\n",
    "plt.fill_between(z_th, F_drift_th  * 1e15 -F_err_th*1e15, F_drift_th  * 1e15 + F_err_th*1e15, alpha = 0.2, color =\"k\")\n",
    "plt.plot(z_th, F_drift_th  * 1e15 -F_err_th*1e15, \"--\" ,color =\"k\")\n",
    "plt.plot(z_th, F_drift_th  * 1e15 +F_err_th*1e15, \"--\", color =\"k\")\n",
    "\n",
    "plt.ylim((-40, 300)) \n",
    "plt.xlim((10e-9,None))\n",
    "plt.xlabel(\"$z$ (m)\") \n",
    "plt.ylabel(\"$F$ (fN)\")\n",
    "plt.legend()\n",
    "plt.show()"
   ]
  },
  {
   "cell_type": "code",
   "execution_count": 22,
   "id": "worst-typing",
   "metadata": {},
   "outputs": [
    {
     "data": {
      "text/plain": [
       "0.062"
      ]
     },
     "execution_count": 22,
     "metadata": {},
     "output_type": "execute_result"
    }
   ],
   "source": [
    "offset*1e6"
   ]
  },
  {
   "cell_type": "markdown",
   "id": "neither-legislature",
   "metadata": {},
   "source": [
    "Finaly, everything seems to work, we do measure a sligtly higher from the drifts but it could simply be explain from a error on the offset of 5 nanometers."
   ]
  },
  {
   "cell_type": "code",
   "execution_count": 40,
   "id": "billion-slovakia",
   "metadata": {},
   "outputs": [],
   "source": [
    "z = raw_data[:,2] * 0.0513 \n",
    "z = z - np.min(z) - offset*1e6\n",
    "\n",
    "bins_center_pdf_z, widths, hist = logarithmic_hist(z, 39e-3, 3, num = 100, base=2)\n",
    "z_F_exp = (bins_center_pdf_z - widths/2) * 1e-6\n",
    "z_F_exp = z_F_exp[:-1]\n",
    "fps = 60\n",
    "\n",
    "\n",
    "def Dz_z(z,off):\n",
    "    off =(off * 1e-6)\n",
    "    z = z - off\n",
    "    result = ((6*z*z + 2*a*z) / (6*z*z + 9*a*z + 2*a*a))\n",
    "    return result\n",
    "\n",
    "def vzz(Y, z,times=[1], method = \"anti-Ito\"):\n",
    "    \n",
    "    # We frist get all the different variables of the problem\n",
    "    Y = Y * 1e-6\n",
    "    z_z = z * 1e-6\n",
    "\n",
    "    # We choose over wich time we want to comput the diffusion coefficient\n",
    "    # Theoritically it should be the same for each time.      \n",
    "    # We initialize the variable used to store the results.\n",
    "    # For the diffusion coefficient itself.\n",
    "    vz = np.zeros((len(times), len(Y[:-1])))\n",
    "\n",
    "    # For the error\n",
    "    errvz = np.zeros((len(times), len(Y[:-1])))\n",
    "    \n",
    "    \n",
    "    for n, i in enumerate(times):\n",
    "        \n",
    "        # Conpute the Delta x = x(Dt + t) - x(t) for given Dt -- same over y\n",
    "        if method == \"Ito\" or method == \"anti-Ito\":\n",
    "            Dzs = z_z[i:] - z_z[0:-i]\n",
    "            Dzs = Dzs + F_correction(1,z[0:-i])/(6*np.pi*0.001*a*Dz_z(z[0:1],0))\n",
    "            \n",
    "        if method == \"Stratanovich\":\n",
    "            Dzs = z_z[2*i:] - z_z[0:-2*i] \n",
    "        #Dzs = z_z[0:-i] - z_z[i:]\n",
    "        # Now for each z-bin we are going to measure the diffusion coefficient.\n",
    "        \n",
    "        for m in range(len(Y)-1):\n",
    "            #print(len(Dzs))\n",
    "            #print(len(z[i:]))\n",
    "            # We take the Dx corresponding the actual bin \n",
    "            if method == \"anti-Ito\":        \n",
    "                dz = Dzs[(z_z[i:] > Y[m]) & (z_z[i:] < Y[m+1])]\n",
    "            if method == \"Ito\":\n",
    "                dz = Dzs[(z_z[:-i] > Y[m]) & (z_z[:-i] < Y[m+1])]\n",
    "            if method == \"Stratanovich\":\n",
    "                dz = Dzs[(z_z[i:-i] > Y[m]) & (z_z[i:-i] < Y[m+1])]\n",
    "            \n",
    "            if method == \"Ito\" or method == \"anti-Ito\":   \n",
    "                vz[n,m] = np.mean(dz)/(i/fps)\n",
    "            if method == \"Stratanovich\":\n",
    "                vz[n,m] = np.mean(dz)/(2*i/fps)\n",
    "            #errvz[n,m] = np.std(dz)/(i/fps)\n",
    "            errvz[n,m] = len(dz)\n",
    "    err_vz = np.nanmean(errvz, axis=0)\n",
    "    vz = np.nanmean(vz, axis=0)\n",
    "          \n",
    "    return vz, err_vz\n",
    "\n",
    "def F_corr(alpha,z):\n",
    "    return -alpha * D(z) * 4e-21 * D_1_prime(z)\n",
    "\n",
    "def D_1_prime(z):\n",
    "    return (2 * r * (2 * r**2 + 12 * r * z + 21 *  z**2))/(2 * r** + 9 * r * z + 6 * z**2)**2\n",
    "\n",
    "def D(z):\n",
    "    return (6*z**2 + 9*r*z + 2*r**2) / (6*z**2 + 2 * r * z)\n",
    "\n",
    "def F_corr(alpha,z):\n",
    "    return -alpha * D(z) * 4e-21 * D_1_prime(z)\n",
    "def F_corr(alpha,z):\n",
    "    return - 4e-21 * alpha *(42*a*z*z + 24*a*a*z + 4*a*a*a)/(36*(z**4) + 66*a*(z**3) + 30*a*a*z*z + 4*(a**3)*z)\n",
    "\n"
   ]
  },
  {
   "cell_type": "code",
   "execution_count": 41,
   "id": "hollow-token",
   "metadata": {},
   "outputs": [
    {
     "name": "stderr",
     "output_type": "stream",
     "text": [
      "C:\\Users\\maxim\\miniconda3\\envs\\holopy\\lib\\site-packages\\numpy\\core\\fromnumeric.py:3419: RuntimeWarning: Mean of empty slice.\n",
      "  return _methods._mean(a, axis=axis, dtype=dtype,\n",
      "C:\\Users\\maxim\\miniconda3\\envs\\holopy\\lib\\site-packages\\numpy\\core\\_methods.py:188: RuntimeWarning: invalid value encountered in double_scalars\n",
      "  ret = ret.dtype.type(ret / rcount)\n",
      "<ipython-input-40-5e10ff6d2e34>:62: RuntimeWarning: Mean of empty slice\n",
      "  vz = np.nanmean(vz, axis=0)\n"
     ]
    },
    {
     "ename": "ValueError",
     "evalue": "operands could not be broadcast together with shapes (5,) (98,) ",
     "output_type": "error",
     "traceback": [
      "\u001b[1;31m---------------------------------------------------------------------------\u001b[0m",
      "\u001b[1;31mValueError\u001b[0m                                Traceback (most recent call last)",
      "\u001b[1;32m<ipython-input-41-11430c32f540>\u001b[0m in \u001b[0;36m<module>\u001b[1;34m\u001b[0m\n\u001b[0;32m      2\u001b[0m \u001b[0mvz_ito\u001b[0m\u001b[1;33m,\u001b[0m \u001b[0merr_ito\u001b[0m \u001b[1;33m=\u001b[0m \u001b[0mvzz\u001b[0m\u001b[1;33m(\u001b[0m\u001b[0mnp\u001b[0m\u001b[1;33m.\u001b[0m\u001b[0marray\u001b[0m\u001b[1;33m(\u001b[0m\u001b[1;33m[\u001b[0m\u001b[1;36m1\u001b[0m\u001b[1;33m,\u001b[0m\u001b[1;36m2\u001b[0m\u001b[1;33m,\u001b[0m\u001b[1;36m3\u001b[0m\u001b[1;33m,\u001b[0m\u001b[1;36m4\u001b[0m\u001b[1;33m,\u001b[0m\u001b[1;36m5\u001b[0m\u001b[1;33m,\u001b[0m\u001b[1;36m6\u001b[0m\u001b[1;33m]\u001b[0m\u001b[1;33m)\u001b[0m\u001b[1;33m,\u001b[0m\u001b[0mz\u001b[0m\u001b[1;33m,\u001b[0m \u001b[0mmethod\u001b[0m \u001b[1;33m=\u001b[0m \u001b[1;34m\"Ito\"\u001b[0m\u001b[1;33m)\u001b[0m\u001b[1;33m\u001b[0m\u001b[1;33m\u001b[0m\u001b[0m\n\u001b[0;32m      3\u001b[0m \u001b[1;31m#z_F_exp = bins_center_pdf_z[:-1] * 1e-6\u001b[0m\u001b[1;33m\u001b[0m\u001b[1;33m\u001b[0m\u001b[1;33m\u001b[0m\u001b[0m\n\u001b[1;32m----> 4\u001b[1;33m \u001b[0mF_exp_ito\u001b[0m \u001b[1;33m=\u001b[0m \u001b[1;36m6\u001b[0m \u001b[1;33m*\u001b[0m \u001b[0mnp\u001b[0m\u001b[1;33m.\u001b[0m\u001b[0mpi\u001b[0m  \u001b[1;33m*\u001b[0m \u001b[1;36m0.001\u001b[0m \u001b[1;33m*\u001b[0m \u001b[0ma\u001b[0m \u001b[1;33m*\u001b[0m \u001b[0mvz_ito\u001b[0m\u001b[1;33m/\u001b[0m \u001b[0mDz_z\u001b[0m\u001b[1;33m(\u001b[0m\u001b[0mz_F_exp\u001b[0m\u001b[1;33m,\u001b[0m \u001b[1;36m0\u001b[0m\u001b[1;33m)\u001b[0m \u001b[1;33m+\u001b[0m \u001b[0mF_corr\u001b[0m\u001b[1;33m(\u001b[0m\u001b[1;36m1\u001b[0m\u001b[1;33m,\u001b[0m\u001b[0mz_F_exp\u001b[0m\u001b[1;33m)\u001b[0m\u001b[1;33m\u001b[0m\u001b[1;33m\u001b[0m\u001b[0m\n\u001b[0m\u001b[0;32m      5\u001b[0m \u001b[0mF_err_ito\u001b[0m \u001b[1;33m=\u001b[0m \u001b[1;36m6\u001b[0m \u001b[1;33m*\u001b[0m \u001b[0mnp\u001b[0m\u001b[1;33m.\u001b[0m\u001b[0mpi\u001b[0m  \u001b[1;33m*\u001b[0m \u001b[1;36m0.001\u001b[0m \u001b[1;33m*\u001b[0m \u001b[0ma\u001b[0m \u001b[1;33m*\u001b[0m \u001b[0merr_ito\u001b[0m\u001b[1;33m/\u001b[0m \u001b[0mDz_z\u001b[0m\u001b[1;33m(\u001b[0m\u001b[0mz_F_exp\u001b[0m\u001b[1;33m,\u001b[0m \u001b[1;36m0\u001b[0m\u001b[1;33m)\u001b[0m \u001b[1;33m+\u001b[0m \u001b[0mF_corr\u001b[0m\u001b[1;33m(\u001b[0m\u001b[1;36m1\u001b[0m\u001b[1;33m,\u001b[0m\u001b[0mz_F_exp\u001b[0m\u001b[1;33m)\u001b[0m\u001b[1;33m\u001b[0m\u001b[1;33m\u001b[0m\u001b[0m\n",
      "\u001b[1;31mValueError\u001b[0m: operands could not be broadcast together with shapes (5,) (98,) "
     ]
    }
   ],
   "source": [
    "a = 1.51e-6\n",
    "vz_ito, err_ito = vzz(np.array([1,2,3,4,5,6]),z, method = \"Ito\")\n",
    "#z_F_exp = bins_center_pdf_z[:-1] * 1e-6\n",
    "F_exp_ito = 6 * np.pi  * 0.001 * a * vz_ito/ Dz_z(z_F_exp, 0) + F_corr(1,z_F_exp)\n",
    "F_err_ito = 6 * np.pi  * 0.001 * a * err_ito/ Dz_z(z_F_exp, 0) + F_corr(1,z_F_exp)"
   ]
  },
  {
   "cell_type": "code",
   "execution_count": null,
   "id": "multiple-advocacy",
   "metadata": {},
   "outputs": [],
   "source": [
    "F"
   ]
  },
  {
   "cell_type": "code",
   "execution_count": 25,
   "id": "appointed-guatemala",
   "metadata": {},
   "outputs": [
    {
     "ename": "NameError",
     "evalue": "name 'F_exp_ito' is not defined",
     "output_type": "error",
     "traceback": [
      "\u001b[1;31m---------------------------------------------------------------------------\u001b[0m",
      "\u001b[1;31mNameError\u001b[0m                                 Traceback (most recent call last)",
      "\u001b[1;32m<ipython-input-25-6933cc70ce4c>\u001b[0m in \u001b[0;36m<module>\u001b[1;34m\u001b[0m\n\u001b[1;32m----> 1\u001b[1;33m \u001b[0mplt\u001b[0m\u001b[1;33m.\u001b[0m\u001b[0merrorbar\u001b[0m\u001b[1;33m(\u001b[0m\u001b[0mz_F_exp\u001b[0m\u001b[1;33m,\u001b[0m \u001b[0mF_exp_ito\u001b[0m \u001b[1;33m*\u001b[0m \u001b[1;36m1e15\u001b[0m\u001b[1;33m,\u001b[0m\u001b[0myerr\u001b[0m\u001b[1;33m=\u001b[0m\u001b[0mF_err_ito\u001b[0m\u001b[1;33m*\u001b[0m\u001b[1;36m1e15\u001b[0m\u001b[1;33m/\u001b[0m\u001b[1;36m2\u001b[0m\u001b[1;33m,\u001b[0m\u001b[0mxerr\u001b[0m\u001b[1;33m=\u001b[0m\u001b[0mwidths\u001b[0m\u001b[1;33m[\u001b[0m\u001b[1;33m:\u001b[0m\u001b[1;33m-\u001b[0m\u001b[1;36m1\u001b[0m\u001b[1;33m]\u001b[0m\u001b[1;33m/\u001b[0m\u001b[1;36m2\u001b[0m\u001b[1;33m*\u001b[0m\u001b[1;36m1e-6\u001b[0m\u001b[1;33m,\u001b[0m \u001b[0mmarker\u001b[0m \u001b[1;33m=\u001b[0m \u001b[1;34m\"o\"\u001b[0m\u001b[1;33m,\u001b[0m \u001b[0mlinestyle\u001b[0m\u001b[1;33m=\u001b[0m\u001b[1;34m\"\"\u001b[0m\u001b[1;33m)\u001b[0m\u001b[1;33m\u001b[0m\u001b[1;33m\u001b[0m\u001b[0m\n\u001b[0m\u001b[0;32m      2\u001b[0m \u001b[0mplt\u001b[0m\u001b[1;33m.\u001b[0m\u001b[0mplot\u001b[0m\u001b[1;33m(\u001b[0m\u001b[0mz_hist\u001b[0m\u001b[1;33m,\u001b[0m \u001b[0mF_eq\u001b[0m \u001b[1;33m*\u001b[0m \u001b[1;36m1e15\u001b[0m\u001b[1;33m,\u001b[0m \u001b[1;34m\"s\"\u001b[0m\u001b[1;33m,\u001b[0m \u001b[0mlabel\u001b[0m \u001b[1;33m=\u001b[0m \u001b[1;34m\"$F_{exp}$ form E\"\u001b[0m\u001b[1;33m,\u001b[0m \u001b[0mzorder\u001b[0m \u001b[1;33m=\u001b[0m \u001b[1;36m10\u001b[0m\u001b[1;33m)\u001b[0m\u001b[1;33m\u001b[0m\u001b[1;33m\u001b[0m\u001b[0m\n\u001b[0;32m      3\u001b[0m \u001b[0mplt\u001b[0m\u001b[1;33m.\u001b[0m\u001b[0msemilogx\u001b[0m\u001b[1;33m(\u001b[0m\u001b[0mz_th\u001b[0m\u001b[1;33m,\u001b[0m \u001b[0mF_drift_th\u001b[0m  \u001b[1;33m*\u001b[0m \u001b[1;36m1e15\u001b[0m\u001b[1;33m,\u001b[0m \u001b[0mcolor\u001b[0m \u001b[1;33m=\u001b[0m \u001b[1;34m\"k\"\u001b[0m\u001b[1;33m,\u001b[0m \u001b[0mzorder\u001b[0m \u001b[1;33m=\u001b[0m \u001b[1;36m11\u001b[0m\u001b[1;33m,\u001b[0m \u001b[0mlabel\u001b[0m\u001b[1;33m=\u001b[0m\u001b[1;34m\"multifit force\"\u001b[0m\u001b[1;33m)\u001b[0m\u001b[1;33m\u001b[0m\u001b[1;33m\u001b[0m\u001b[0m\n\u001b[0;32m      4\u001b[0m \u001b[1;31m#plt.fill_between(z_th, F_drift_th  * 1e15 -F_err_th*1e15, F_drift_th  * 1e15 + F_err_th*1e15, alpha = 0.2, color =\"k\")\u001b[0m\u001b[1;33m\u001b[0m\u001b[1;33m\u001b[0m\u001b[1;33m\u001b[0m\u001b[0m\n\u001b[0;32m      5\u001b[0m \u001b[1;31m#plt.plot(z_th, F_drift_th  * 1e15 -F_err_th*1e15, \"--\" ,color =\"k\")\u001b[0m\u001b[1;33m\u001b[0m\u001b[1;33m\u001b[0m\u001b[1;33m\u001b[0m\u001b[0m\n",
      "\u001b[1;31mNameError\u001b[0m: name 'F_exp_ito' is not defined"
     ]
    }
   ],
   "source": [
    "plt.errorbar(z_F_exp, F_exp_ito * 1e15,yerr=F_err_ito*1e15/2,xerr=widths[:-1]/2*1e-6, marker = \"o\", linestyle=\"\")\n",
    "plt.plot(z_hist, F_eq * 1e15, \"s\", label = \"$F_{exp}$ form E\", zorder = 10)\n",
    "plt.semilogx(z_th, F_drift_th  * 1e15, color = \"k\", zorder = 11, label=\"multifit force\")\n",
    "#plt.fill_between(z_th, F_drift_th  * 1e15 -F_err_th*1e15, F_drift_th  * 1e15 + F_err_th*1e15, alpha = 0.2, color =\"k\")\n",
    "#plt.plot(z_th, F_drift_th  * 1e15 -F_err_th*1e15, \"--\" ,color =\"k\")\n",
    "#plt.plot(z_th, F_drift_th  * 1e15 +F_err_th*1e15, \"--\", color =\"k\")\n",
    "\n",
    "plt.ylim((-40, 300)) \n",
    "plt.xlim((10e-9,None))\n",
    "plt.xlabel(\"$z$ (m)\") \n",
    "plt.ylabel(\"$F$ (fN)\")\n",
    "plt.legend()\n",
    "plt.show()"
   ]
  },
  {
   "cell_type": "code",
   "execution_count": 26,
   "id": "local-intake",
   "metadata": {},
   "outputs": [
    {
     "data": {
      "text/plain": [
       "99"
      ]
     },
     "execution_count": 26,
     "metadata": {},
     "output_type": "execute_result"
    }
   ],
   "source": [
    "len(bins_center_pdf_z)"
   ]
  },
  {
   "cell_type": "markdown",
   "id": "careful-willow",
   "metadata": {},
   "source": [
    "# Froce error"
   ]
  },
  {
   "cell_type": "markdown",
   "id": "parental-mailing",
   "metadata": {},
   "source": [
    "Now we would like to compute the stochastic error on the force."
   ]
  },
  {
   "cell_type": "code",
   "execution_count": 43,
   "id": "blocked-palestinian",
   "metadata": {},
   "outputs": [],
   "source": [
    "def random_on_force():\n",
    "    z = raw_data[:,2] * 0.0513 \n",
    "    z = z - np.min(z) - offset*1e6\n",
    "    bins_center_pdf_z, widths, hist = logarithmic_hist(z, 39e-3, 3, num = 45, base=2)\n",
    "    z = z + np.random.normal(0, 1e-3, len(z))\n",
    "    z_F_exp = (bins_center_pdf_z - widths/2) * 1e-6\n",
    "    z_F_exp = z_F_exp[:-1]\n",
    "    a = 1.51e-6\n",
    "    vz_ito, err_ito = vzz(bins_center_pdf_z, z, [1,2], method = \"Ito\")\n",
    "    #z_F_exp = bins_center_pdf_z[:-1] * 1e-6\n",
    "    F_exp_ito = 6 * np.pi  * 0.001 * a * vz_ito/ Dz_z(z_F_exp, 0) \n",
    "    return F_exp_ito, err_ito\n",
    "    "
   ]
  },
  {
   "cell_type": "code",
   "execution_count": 44,
   "id": "based-canon",
   "metadata": {},
   "outputs": [
    {
     "data": {
      "text/plain": [
       "98"
      ]
     },
     "execution_count": 44,
     "metadata": {},
     "output_type": "execute_result"
    }
   ],
   "source": [
    "len(z_F_exp)"
   ]
  },
  {
   "cell_type": "code",
   "execution_count": 45,
   "id": "fundamental-filter",
   "metadata": {},
   "outputs": [
    {
     "data": {
      "text/plain": [
       "43"
      ]
     },
     "execution_count": 45,
     "metadata": {},
     "output_type": "execute_result"
    }
   ],
   "source": [
    "len(random_on_force()[0])"
   ]
  },
  {
   "cell_type": "code",
   "execution_count": 46,
   "id": "deadly-attribute",
   "metadata": {},
   "outputs": [],
   "source": [
    "bins_center_pdf_z, widths, hist = logarithmic_hist(z, 39e-3, 3, num = 45, base=2)\n",
    "z = z + np.random.normal(0, 1e-3, len(z))\n",
    "z_F_exp = (bins_center_pdf_z - 1*widths/2) * 1e-6\n",
    "z_F_exp = z_F_exp[:-1]\n",
    "\n",
    "N = 100\n",
    "all_F = np.ones((len(random_on_force()[0]),N))\n",
    "all_err_F = np.ones((len(random_on_force()[0]),N))\n",
    "\n",
    "for i in range(N):\n",
    "    F, err = random_on_force()\n",
    "    all_F[:,i] = F\n",
    "    all_err_F[:,i] = err\n",
    "    \n",
    "    \n",
    "    "
   ]
  },
  {
   "cell_type": "code",
   "execution_count": 47,
   "id": "established-girlfriend",
   "metadata": {},
   "outputs": [],
   "source": [
    "F_meaned = np.mean(all_F, axis=1)\n",
    "F_err_tot = np.std(all_F, axis=1)\n"
   ]
  },
  {
   "cell_type": "code",
   "execution_count": 48,
   "id": "cordless-presence",
   "metadata": {},
   "outputs": [],
   "source": [
    "T_boxes = np.mean(all_err_F, axis=1)"
   ]
  },
  {
   "cell_type": "code",
   "execution_count": 49,
   "id": "accessible-focus",
   "metadata": {},
   "outputs": [],
   "source": [
    "#plt.plot(z_F_exp, T_boxes)"
   ]
  },
  {
   "cell_type": "code",
   "execution_count": 50,
   "id": "useful-bandwidth",
   "metadata": {},
   "outputs": [],
   "source": [
    "f_th2 = f_th(z_F_exp)\n",
    "F_err_th = np.sqrt(24 * np.pi * 4e-21 *0.001*  eta(z_F_exp) * a / (T_boxes*dt))\n"
   ]
  },
  {
   "cell_type": "code",
   "execution_count": 57,
   "id": "bbbd3589-1286-439a-a97c-a0d83646fcb8",
   "metadata": {},
   "outputs": [
    {
     "data": {
      "text/plain": [
       "[3, 3, 3, 3]"
      ]
     },
     "execution_count": 57,
     "metadata": {},
     "output_type": "execute_result"
    }
   ],
   "source": [
    "[3]*4"
   ]
  },
  {
   "cell_type": "code",
   "execution_count": 51,
   "id": "legal-management",
   "metadata": {},
   "outputs": [
    {
     "data": {
      "text/plain": [
       "<function __main__.<lambda>(z)>"
      ]
     },
     "execution_count": 51,
     "metadata": {},
     "output_type": "execute_result"
    }
   ],
   "source": [
    "f_th"
   ]
  },
  {
   "cell_type": "code",
   "execution_count": 79,
   "id": "substantial-thesis",
   "metadata": {},
   "outputs": [
    {
     "data": {
      "image/png": "[encoded data removed]",
      "text/plain": [
       "<Figure size 1259.84x708.661 with 1 Axes>"
      ]
     },
     "metadata": {
      "needs_background": "light"
     },
     "output_type": "display_data"
    }
   ],
   "source": [
    "plt.figure(figsize=( cm2inch(16),cm2inch(9)))\n",
    "\n",
    "plt.errorbar(z_F_exp, F_meaned*1e15, yerr=F_err_tot*1e15,xerr = widths[:-1]*1e-6/2 ,marker = \"o\", linestyle=\"\", ecolor=\"k\", capsize = 2, label = \"drift force\")\n",
    "#plt.plot(z_hist, F_eq * 1e15, \"s\", label = \"$F_{exp}$ form E\", zorder = 10)\n",
    "plt.semilogx(z_F_exp, f_th2 * 1e15, color = \"k\", zorder = 11, label=\"multifit force\")\n",
    "plt.fill_between(z_F_exp, f_th2  * 1e15 -F_err_th*1e15, f_th2  * 1e15 + F_err_th*1e15, alpha = 0.2, color =\"k\", label = \"thermal noise range\")\n",
    "plt.plot(z_F_exp, f_th2  * 1e15 - F_err_th*1e15, \"--\" ,color =\"k\", linewidth = 2)\n",
    "plt.plot(z_F_exp, f_th2  * 1e15 + F_err_th*1e15, \"--\" ,color =\"k\", linewidth = 2)\n",
    "plt.plot(z_hist, F_eq * 1e15, \"s\", label = \"$-\\\\nabla U$\", zorder = 1)\n",
    "\n",
    "plt.plot(z_F_exp, [np.mean( F_meaned[5:]  * 1e15)]*len(z_F_exp), color = \"tab:red\", linestyle= \"--\", linewidth = 2)\n",
    "\n",
    "#plt.plot(z_th, F_drift_th  * 1e15 +F_err_th*1e15, \"--\", color =\"k\")\n",
    "plt.text(5e-7, 20, \"$F_\\mathrm{g} = -7$ fN\", color=\"tab:red\", fontsize =\"medium\" )\n",
    "plt.ylim((-40, 200)) \n",
    "plt.xlim((35e-9,None))\n",
    "plt.xlabel(\"$z$ (m)\", fontsize=\"medium\") \n",
    "plt.ylabel(\"$F$ (fN)\", fontsize=\"medium\")\n",
    "plt.legend()\n",
    "plt.savefig(\"figure_force_total.pdf\")\n",
    "plt.show()"
   ]
  },
  {
   "cell_type": "code",
   "execution_count": 76,
   "id": "attended-broadcast",
   "metadata": {},
   "outputs": [],
   "source": [
    "dict_force = {}\n",
    "dict_force[\"z_F_exp\"] = z_F_exp\n",
    "dict_force[\"F_meaned\"] = F_meaned\n",
    "dict_force[\"widths\"] = widths\n",
    "dict_force[\"z_hist\"] = z_hist\n",
    "dict_force[\"f_th2\"] = f_th2\n",
    "dict_force[\"F_err_th\"] = F_err_th\n",
    "dict_force[\"F_err_tot\"] = F_err_tot\n",
    "\n",
    "\n",
    "\n",
    "import scipy\n",
    "scipy.io.savemat(\"dict_force.mat\", dict_force)\n"
   ]
  },
  {
   "cell_type": "code",
   "execution_count": 1,
   "id": "foreign-provision",
   "metadata": {},
   "outputs": [
    {
     "ename": "NameError",
     "evalue": "name 'z_hist' is not defined",
     "output_type": "error",
     "traceback": [
      "\u001b[1;31m---------------------------------------------------------------------------\u001b[0m",
      "\u001b[1;31mNameError\u001b[0m                                 Traceback (most recent call last)",
      "\u001b[1;32m<ipython-input-1-ad576fc08d06>\u001b[0m in \u001b[0;36m<module>\u001b[1;34m\u001b[0m\n\u001b[1;32m----> 1\u001b[1;33m \u001b[0mz_hist\u001b[0m\u001b[1;33m\u001b[0m\u001b[1;33m\u001b[0m\u001b[0m\n\u001b[0m",
      "\u001b[1;31mNameError\u001b[0m: name 'z_hist' is not defined"
     ]
    }
   ],
   "source": [
    "z_hist"
   ]
  },
  {
   "cell_type": "code",
   "execution_count": null,
   "id": "powered-modification",
   "metadata": {},
   "outputs": [],
   "source": []
  },
  {
   "cell_type": "code",
   "execution_count": null,
   "id": "maritime-there",
   "metadata": {},
   "outputs": [],
   "source": []
  },
  {
   "cell_type": "code",
   "execution_count": null,
   "id": "foster-monthly",
   "metadata": {},
   "outputs": [],
   "source": []
  },
  {
   "cell_type": "code",
   "execution_count": null,
   "id": "strategic-paris",
   "metadata": {},
   "outputs": [],
   "source": []
  }
 ],
 "metadata": {
  "kernelspec": {
   "display_name": "Python 3",
   "language": "python",
   "name": "python3"
  },
  "language_info": {
   "codemirror_mode": {
    "name": "ipython",
    "version": 3
   },
   "file_extension": ".py",
   "mimetype": "text/x-python",
   "name": "python",
   "nbconvert_exporter": "python",
   "pygments_lexer": "ipython3",
   "version": "3.9.5"
  }
 },
 "nbformat": 4,
 "nbformat_minor": 5
}
