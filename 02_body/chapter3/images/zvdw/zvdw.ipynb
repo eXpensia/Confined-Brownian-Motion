{
 "cells": [
  {
   "cell_type": "markdown",
   "id": "1f9d9e6e-863f-4957-a8b5-fe488af903d8",
   "metadata": {},
   "source": [
    "# Compute the $z_{vdw}$ distance"
   ]
  },
  {
   "cell_type": "code",
   "execution_count": 40,
   "id": "083db07a-1d7f-4869-b1a0-1dd94ded2099",
   "metadata": {},
   "outputs": [],
   "source": [
    "import numpy as np\n",
    "import matplotlib.pyplot as plt"
   ]
  },
  {
   "cell_type": "code",
   "execution_count": 189,
   "id": "43707726-45dd-43b2-9122-ee7ef131a161",
   "metadata": {},
   "outputs": [],
   "source": [
    "kt = 4e-21\n",
    "A = 0.62 * kt\n",
    "a = 1.5e-6\n",
    "B = 4 * kt\n",
    "ld  = 30e-9"
   ]
  },
  {
   "cell_type": "code",
   "execution_count": 190,
   "id": "31e19090-f86a-4cb2-9f7f-582d009080f3",
   "metadata": {},
   "outputs": [],
   "source": [
    "def F_elec(z):\n",
    "    return B/ld * np.exp(-z / ld)"
   ]
  },
  {
   "cell_type": "code",
   "execution_count": 191,
   "id": "cf869689-77fc-408c-ad2b-95f5d363e76d",
   "metadata": {},
   "outputs": [],
   "source": [
    "def F_vdw(z):\n",
    "    return - (A * np.exp(-z / ld) *a) / (6 * z**2)\n",
    "\n",
    "def F_vdw(z):\n",
    "    return - (A * np.exp(-z / ld) *a**3) / (3*(2*a + z)**2 * z**2) / (1 + 11*z / 100e-9)"
   ]
  },
  {
   "cell_type": "code",
   "execution_count": 192,
   "id": "630a9db6-0b79-4306-9b87-7b42a7cc7da9",
   "metadata": {},
   "outputs": [],
   "source": [
    "def minimizer(z):\n",
    "    z = z*1e-9\n",
    "    return np.abs(F_elec(z) + F_vdw(z)) /  -F_vdw(z)"
   ]
  },
  {
   "cell_type": "code",
   "execution_count": 193,
   "id": "03643a39-4b1d-4094-a9c4-d4e722b8b458",
   "metadata": {},
   "outputs": [
    {
     "data": {
      "text/plain": [
       "[<matplotlib.lines.Line2D at 0x1fca3372af0>]"
      ]
     },
     "execution_count": 193,
     "metadata": {},
     "output_type": "execute_result"
    },
    {
     "data": {
      "image/png": "[encoded data removed]",
      "text/plain": [
       "<Figure size 432x288 with 1 Axes>"
      ]
     },
     "metadata": {
      "needs_background": "light"
     },
     "output_type": "display_data"
    }
   ],
   "source": [
    "z = np.linspace(1e-9, 1e-6, 10000)\n",
    "\n",
    "plt.semilogx(z, F_vdw(z))\n",
    "plt.semilogx(z, F_elec(z))"
   ]
  },
  {
   "cell_type": "code",
   "execution_count": null,
   "id": "f344be79-7ff4-42e5-a7c3-7f9a1ff8e88c",
   "metadata": {},
   "outputs": [],
   "source": []
  },
  {
   "cell_type": "code",
   "execution_count": 194,
   "id": "c5f779df-b0c5-496b-88f4-483d6885d8f5",
   "metadata": {},
   "outputs": [
    {
     "data": {
      "text/plain": [
       " final_simplex: (array([[14.79921799],\n",
       "       [14.79921875]]), array([1.82929077e-08, 1.17253945e-07]))\n",
       "           fun: 1.8292907652149364e-08\n",
       "       message: 'Optimization terminated successfully.'\n",
       "          nfev: 60\n",
       "           nit: 30\n",
       "        status: 0\n",
       "       success: True\n",
       "             x: array([14.79921799])"
      ]
     },
     "execution_count": 194,
     "metadata": {},
     "output_type": "execute_result"
    }
   ],
   "source": [
    "minimize(minimizer, x0 = 2, method = \"Nelder-Mead\", tol = 1e-6)"
   ]
  },
  {
   "cell_type": "code",
   "execution_count": null,
   "id": "254a7e6b-6f0a-47ab-a76b-55e1d5210784",
   "metadata": {},
   "outputs": [],
   "source": []
  },
  {
   "cell_type": "code",
   "execution_count": 195,
   "id": "cbb15f27-d950-4f0e-8497-63d9940f4f41",
   "metadata": {},
   "outputs": [],
   "source": [
    "def F_tot(z):\n",
    "    z = z* 1e-6\n",
    "    return (F_elec(z) + F_vdw(z))"
   ]
  },
  {
   "cell_type": "code",
   "execution_count": 196,
   "id": "6b0e3c48-1380-4f0e-8545-5a074e080665",
   "metadata": {},
   "outputs": [
    {
     "data": {
      "text/plain": [
       "[<matplotlib.lines.Line2D at 0x1fca4483070>]"
      ]
     },
     "execution_count": 196,
     "metadata": {},
     "output_type": "execute_result"
    },
    {
     "data": {
      "image/png": "[encoded data removed]",
      "text/plain": [
       "<Figure size 432x288 with 1 Axes>"
      ]
     },
     "metadata": {
      "needs_background": "light"
     },
     "output_type": "display_data"
    }
   ],
   "source": [
    "z = np.linspace(1e-2, 1,100000)\n",
    "plt.semilogx(z, F_tot(z))"
   ]
  },
  {
   "cell_type": "code",
   "execution_count": null,
   "id": "e95592e5-efea-4287-ac95-0d657324ddc5",
   "metadata": {},
   "outputs": [],
   "source": []
  },
  {
   "cell_type": "code",
   "execution_count": null,
   "id": "2527c5e4-6504-4de3-afb8-fe54b5e6a0a7",
   "metadata": {},
   "outputs": [],
   "source": []
  },
  {
   "cell_type": "code",
   "execution_count": null,
   "id": "dffe0eaa-8592-4a52-9a71-f6a56b397d4d",
   "metadata": {},
   "outputs": [],
   "source": []
  },
  {
   "cell_type": "code",
   "execution_count": 181,
   "id": "a05e3973-38a9-4a8c-b0b5-0c261397905c",
   "metadata": {},
   "outputs": [
    {
     "data": {
      "text/plain": [
       "-3.3126505848422596e-15"
      ]
     },
     "execution_count": 181,
     "metadata": {},
     "output_type": "execute_result"
    }
   ],
   "source": [
    "F_vdw(43e-9)"
   ]
  },
  {
   "cell_type": "code",
   "execution_count": 182,
   "id": "9a27a715-2610-4de4-8838-5ce28a13c95f",
   "metadata": {},
   "outputs": [
    {
     "data": {
      "text/plain": [
       "9.318732621879756e-14"
      ]
     },
     "execution_count": 182,
     "metadata": {},
     "output_type": "execute_result"
    }
   ],
   "source": [
    "F_elec(43e-9)"
   ]
  },
  {
   "cell_type": "code",
   "execution_count": null,
   "id": "3d8130e0-e7b3-49f4-ac24-50eedace7495",
   "metadata": {},
   "outputs": [],
   "source": []
  },
  {
   "cell_type": "code",
   "execution_count": 207,
   "id": "7c847e22-5dfd-4de3-9fc2-bdfb9210bbca",
   "metadata": {},
   "outputs": [],
   "source": [
    "def FF_dvw(z):\n",
    "    return  np.exp(-z/ld)"
   ]
  },
  {
   "cell_type": "code",
   "execution_count": 208,
   "id": "3e8dfe32-cc20-42d2-beae-a3e1318e9526",
   "metadata": {},
   "outputs": [
    {
     "data": {
      "text/plain": [
       "0.9672161004820059"
      ]
     },
     "execution_count": 208,
     "metadata": {},
     "output_type": "execute_result"
    }
   ],
   "source": [
    "FF_dvw(1e-9)"
   ]
  },
  {
   "cell_type": "code",
   "execution_count": 199,
   "id": "046ed977-e370-4c7f-b7c0-3e7289b8d9c0",
   "metadata": {},
   "outputs": [
    {
     "data": {
      "text/plain": [
       "array([0., 0., 0., ..., 0., 0., 0.])"
      ]
     },
     "execution_count": 199,
     "metadata": {},
     "output_type": "execute_result"
    }
   ],
   "source": [
    "np.exp(-z/ld) * (z/ld - 2) / z**3"
   ]
  },
  {
   "cell_type": "code",
   "execution_count": null,
   "id": "82c3d70c-fe40-4739-a492-9886e3e56866",
   "metadata": {},
   "outputs": [],
   "source": []
  }
 ],
 "metadata": {
  "kernelspec": {
   "display_name": "Python 3",
   "language": "python",
   "name": "python3"
  },
  "language_info": {
   "codemirror_mode": {
    "name": "ipython",
    "version": 3
   },
   "file_extension": ".py",
   "mimetype": "text/x-python",
   "name": "python",
   "nbconvert_exporter": "python",
   "pygments_lexer": "ipython3",
   "version": "3.9.5"
  }
 },
 "nbformat": 4,
 "nbformat_minor": 5
}
