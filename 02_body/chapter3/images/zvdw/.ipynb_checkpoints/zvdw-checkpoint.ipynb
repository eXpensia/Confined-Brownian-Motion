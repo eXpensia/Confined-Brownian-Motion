{
 "cells": [
  {
   "cell_type": "markdown",
   "id": "1f9d9e6e-863f-4957-a8b5-fe488af903d8",
   "metadata": {},
   "source": [
    "# Compute the $z_{vdw}$ distance"
   ]
  },
  {
   "cell_type": "code",
   "execution_count": 40,
   "id": "083db07a-1d7f-4869-b1a0-1dd94ded2099",
   "metadata": {},
   "outputs": [],
   "source": [
    "import numpy as np\n",
    "import matplotlib.pyplot as plt"
   ]
  },
  {
   "cell_type": "code",
   "execution_count": 41,
   "id": "43707726-45dd-43b2-9122-ee7ef131a161",
   "metadata": {},
   "outputs": [],
   "source": [
    "kt = 4e-21\n",
    "A = 0.62 * kt\n",
    "a = 1.5e-6\n",
    "B = 4 * kt\n",
    "ld  = 100e-9"
   ]
  },
  {
   "cell_type": "code",
   "execution_count": 42,
   "id": "31e19090-f86a-4cb2-9f7f-582d009080f3",
   "metadata": {},
   "outputs": [],
   "source": [
    "def F_elec(z):\n",
    "    return B/ld * np.exp(z / ld)"
   ]
  },
  {
   "cell_type": "code",
   "execution_count": 43,
   "id": "cf869689-77fc-408c-ad2b-95f5d363e76d",
   "metadata": {},
   "outputs": [],
   "source": [
    "def F_vdw(z):\n",
    "    return - (A*a) / (6 * z**2)"
   ]
  },
  {
   "cell_type": "code",
   "execution_count": 58,
   "id": "630a9db6-0b79-4306-9b87-7b42a7cc7da9",
   "metadata": {},
   "outputs": [],
   "source": [
    "def minimizer(z):\n",
    "    z = z*1e-9\n",
    "    return np.abs(F_elec(z) + F_vdw(z)) /  F_vdw(z)"
   ]
  },
  {
   "cell_type": "code",
   "execution_count": 59,
   "id": "03643a39-4b1d-4094-a9c4-d4e722b8b458",
   "metadata": {},
   "outputs": [
    {
     "data": {
      "text/plain": [
       "[<matplotlib.lines.Line2D at 0x1fc95c82a90>]"
      ]
     },
     "execution_count": 59,
     "metadata": {},
     "output_type": "execute_result"
    },
    {
     "data": {
      "image/png": "[encoded data removed]",
      "text/plain": [
       "<Figure size 432x288 with 1 Axes>"
      ]
     },
     "metadata": {
      "needs_background": "light"
     },
     "output_type": "display_data"
    }
   ],
   "source": [
    "z = np.linspace(1e-12, 1e-6, 100000)\n",
    "plt.semilogx(z, F_tot(z))"
   ]
  },
  {
   "cell_type": "code",
   "execution_count": null,
   "id": "f344be79-7ff4-42e5-a7c3-7f9a1ff8e88c",
   "metadata": {},
   "outputs": [],
   "source": []
  },
  {
   "cell_type": "code",
   "execution_count": 61,
   "id": "c5f779df-b0c5-496b-88f4-483d6885d8f5",
   "metadata": {},
   "outputs": [
    {
     "data": {
      "text/plain": [
       " final_simplex: (array([[2.1e-09],\n",
       "       [2.0e-09]]), array([1.40426174e-10, 1.54836768e-10]))\n",
       "           fun: 1.4042617363273566e-10\n",
       "       message: 'Optimization terminated successfully.'\n",
       "          nfev: 2\n",
       "           nit: 1\n",
       "        status: 0\n",
       "       success: True\n",
       "             x: array([2.1e-09])"
      ]
     },
     "execution_count": 61,
     "metadata": {},
     "output_type": "execute_result"
    }
   ],
   "source": [
    "minimize(F_tot, x0 = 2e-9, method=\"Nelder-Mead\")"
   ]
  },
  {
   "cell_type": "code",
   "execution_count": null,
   "id": "254a7e6b-6f0a-47ab-a76b-55e1d5210784",
   "metadata": {},
   "outputs": [],
   "source": []
  }
 ],
 "metadata": {
  "kernelspec": {
   "display_name": "Python 3",
   "language": "python",
   "name": "python3"
  },
  "language_info": {
   "codemirror_mode": {
    "name": "ipython",
    "version": 3
   },
   "file_extension": ".py",
   "mimetype": "text/x-python",
   "name": "python",
   "nbconvert_exporter": "python",
   "pygments_lexer": "ipython3",
   "version": "3.9.5"
  }
 },
 "nbformat": 4,
 "nbformat_minor": 5
}
