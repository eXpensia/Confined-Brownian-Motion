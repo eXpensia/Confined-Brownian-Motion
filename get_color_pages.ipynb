{
 "cells": [
  {
   "cell_type": "markdown",
   "id": "47f52d8b-735c-49a7-a851-b67c058c6dd5",
   "metadata": {},
   "source": [
    "get the coverage of each color using ghost script : \n",
    "\n",
    "``` gs -q -o  - -sDEVICE=inkcov Confined_Brownian_motion.pdf > color_page.txt```"
   ]
  },
  {
   "cell_type": "code",
   "execution_count": 46,
   "id": "aa3a41c6-3b5f-47a2-8be9-dde18037707c",
   "metadata": {},
   "outputs": [],
   "source": [
    "from operator import methodcaller\n",
    "pages = []\n",
    "with open('color_page.txt') as f:\n",
    "    lines = f.readlines()\n",
    "infos = open('color_page.txt')\n",
    "infos = list(map(methodcaller(\"split\", \" \"), infos.readlines()))"
   ]
  },
  {
   "cell_type": "code",
   "execution_count": 76,
   "id": "b92982eb-2a60-43e7-b7c4-79ad59388c4f",
   "metadata": {},
   "outputs": [],
   "source": [
    "colors=[]\n",
    "for i in infos:\n",
    "    colors.append(sum(map(float, i[::-2][2:])))"
   ]
  },
  {
   "cell_type": "code",
   "execution_count": 80,
   "id": "211ea41a-28d8-4448-a86d-cb2919cf67f4",
   "metadata": {},
   "outputs": [
    {
     "name": "stdout",
     "output_type": "stream",
     "text": [
      "There is 212 pages total\n",
      "There is 88 white and black pages\n",
      "There is 124 color pages\n",
      "The colors pages are situated at:\n",
      "1,4,27,30,36,37,38,39,40,41,42,44,49,50,51,52,53,55,56,57,59,60,62,63,64,68,69,70,71,73,76,80,82,83,84,86,89,90,98,101,102,103,104,105,106,108,109,110,111,112,114,116,119,121,123,125,127,129,130,131,132,134,135,136,142,143,144,145,146,147,148,149,150,151,152,153,154,155,156,157,158,159,160,161,162,163,164,165,166,167,168,169,170,171,172,173,174,175,176,177,178,179,180,181,182,183,184,185,186,187,188,189,190,191,192,193,194,195,196,197,198,199,200,201\n"
     ]
    }
   ],
   "source": [
    "print(\"There is \" + str(len(colors)) + \" pages total\")\n",
    "print(\"There is \" + str(colors.count(0)) + \" white and black pages\")\n",
    "print(\"There is \" + str(len(colors) - colors.count(0)) + \" color pages\")\n",
    "\n",
    "print(\"The colors pages are situated at:\")\n",
    "print(*[(i+1) for i in range(len(colors)) if colors[i] > 0], sep = \",\")"
   ]
  }
 ],
 "metadata": {
  "kernelspec": {
   "display_name": "Python 3 (ipykernel)",
   "language": "python",
   "name": "python3"
  },
  "language_info": {
   "codemirror_mode": {
    "name": "ipython",
    "version": 3
   },
   "file_extension": ".py",
   "mimetype": "text/x-python",
   "name": "python",
   "nbconvert_exporter": "python",
   "pygments_lexer": "ipython3",
   "version": "3.9.7"
  }
 },
 "nbformat": 4,
 "nbformat_minor": 5
}
