{
 "cells": [
  {
   "cell_type": "code",
   "execution_count": 7,
   "id": "6fe8e766",
   "metadata": {},
   "outputs": [],
   "source": [
    "%load_ext lab_black\n",
    "import numpy as np\n",
    "import matplotlib.pyplot as plt\n",
    "import matplotlib as mpl\n",
    "from scipy.io import loadmat, savemat\n",
    "from mpl_toolkits.mplot3d import Axes3D\n",
    "from scipy.optimize import curve_fit, minimize, least_squares\n",
    "from scipy.integrate import trapz\n",
    "from scipy.stats import norm, kurtosis\n",
    "from matplotlib.ticker import ScalarFormatter\n",
    "\n",
    "%matplotlib inline\n",
    "# import mpld3\n",
    "# mpld3.enable_notebook()"
   ]
  },
  {
   "cell_type": "code",
   "execution_count": 36,
   "id": "1b6af2e5",
   "metadata": {},
   "outputs": [],
   "source": [
    "# axes.xaxis.set_tick_params(direction='in', which='both')\n",
    "# axes.yaxis.set_tick_params(direction='in', which='both')\n",
    "\n",
    "\n",
    "mpl.rcParams[\"xtick.direction\"] = \"in\"\n",
    "mpl.rcParams[\"ytick.direction\"] = \"in\"\n",
    "mpl.rcParams[\"lines.markeredgecolor\"] = \"k\"\n",
    "mpl.rcParams[\"lines.markeredgewidth\"] = 0.1\n",
    "mpl.rcParams[\"figure.dpi\"] = 130\n",
    "from matplotlib import rc\n",
    "\n",
    "rc(\"font\", family=\"serif\")\n",
    "# c('text', usetex=True)\n",
    "rc(\"xtick\", labelsize=\"x-small\")\n",
    "rc(\"ytick\", labelsize=\"x-small\")\n",
    "\n",
    "\n",
    "def cm2inch(value):\n",
    "    return value / 2.54"
   ]
  },
  {
   "cell_type": "code",
   "execution_count": 3,
   "id": "53b36cbd",
   "metadata": {},
   "outputs": [],
   "source": [
    "raw_data = loadmat('fit_result_dur_27052020_n_r_fix_0p0513_wav_532_r_1p516_n_1.597.mat')[\"data\"][:,0:3]\n",
    "#raw_data = raw_data[45000:,:]\n",
    "#raw_data = raw_data[1:,:]\n",
    "\n",
    "r = 1.516*1e-6\n",
    "n_part =  1.597\n",
    "fps = 60\n",
    "time = np.arange(0,np.shape(raw_data)[0])/fps\n"
   ]
  },
  {
   "cell_type": "code",
   "execution_count": 20,
   "id": "e6617b88",
   "metadata": {},
   "outputs": [],
   "source": [
    "x = raw_data[:, 0:1] * 0.0513 * 1e-6"
   ]
  },
  {
   "cell_type": "code",
   "execution_count": 21,
   "id": "0df2ad4a",
   "metadata": {},
   "outputs": [],
   "source": [
    "def _c4(z, t):\n",
    "    return (\n",
    "        1\n",
    "        / 24\n",
    "        * (\n",
    "            np.mean((z[:, -t] - z[t, :]) ** 4)\n",
    "            - 3 * np.mean((z[:, -t] - z[t, :]) ** 2) ** 2\n",
    "        )\n",
    "    )\n",
    "\n",
    "\n",
    "def c4(z, t):\n",
    "    return np.array([_c4(z, i) for i in t])"
   ]
  },
  {
   "cell_type": "code",
   "execution_count": 43,
   "id": "f9c7b84c",
   "metadata": {},
   "outputs": [],
   "source": [
    "def _C4(x, t):\n",
    "    return (\n",
    "        1\n",
    "        / 24\n",
    "        * (np.mean((x[:-t] - x[t:]) ** 4) - 3 * (np.mean((x[:-t] - x[t:]) ** 2)) ** 2)\n",
    "    )\n",
    "\n",
    "\n",
    "def C4(x, t):\n",
    "    return np.array([(_C4(x, i)) for i in t])\n",
    "\n",
    "\n",
    "tt = np.array(\n",
    "    [\n",
    "        *np.arange(1, 10, 1),\n",
    "        *np.arange(10, 100, 10),\n",
    "    ]\n",
    ")"
   ]
  },
  {
   "cell_type": "code",
   "execution_count": 44,
   "id": "d3ae93c5",
   "metadata": {},
   "outputs": [],
   "source": [
    "c4_exp = C4(x, tt)"
   ]
  },
  {
   "cell_type": "code",
   "execution_count": 45,
   "id": "e55efeae",
   "metadata": {},
   "outputs": [
    {
     "data": {
      "text/plain": [
       "array([ 7.64217416e-32,  2.29662770e-31,  4.22750108e-31,  6.97914440e-31,\n",
       "        1.05049365e-30,  1.36110394e-30,  1.76754585e-30,  2.05824905e-30,\n",
       "        2.35362397e-30,  2.67749097e-30,  8.46237168e-30,  2.23647387e-29,\n",
       "        1.79655007e-29, -4.02059795e-31, -1.98558921e-29, -1.47431995e-30,\n",
       "        5.75089726e-29,  2.02105067e-28])"
      ]
     },
     "execution_count": 45,
     "metadata": {},
     "output_type": "execute_result"
    }
   ],
   "source": [
    "c4_exp"
   ]
  },
  {
   "cell_type": "code",
   "execution_count": 46,
   "id": "7861ffd8",
   "metadata": {},
   "outputs": [
    {
     "data": {
      "text/plain": [
       "[<matplotlib.lines.Line2D at 0x229670e5670>]"
      ]
     },
     "execution_count": 46,
     "metadata": {},
     "output_type": "execute_result"
    },
    {
     "data": {
      "image/png": "[encoded data removed]",
      "text/plain": [
       "<Figure size 780x520 with 1 Axes>"
      ]
     },
     "metadata": {
      "needs_background": "light"
     },
     "output_type": "display_data"
    }
   ],
   "source": [
    "plt.loglog(tt / 60, c4_exp, \"o\")\n",
    "tth = np.linspace(1e-2, 10)\n",
    "plt.plot(tth, 1.2595873833284212e-28 * tth ** 2, color=\"k\")"
   ]
  },
  {
   "cell_type": "code",
   "execution_count": null,
   "id": "29596e87",
   "metadata": {},
   "outputs": [],
   "source": []
  }
 ],
 "metadata": {
  "kernelspec": {
   "display_name": "Python 3",
   "language": "python",
   "name": "python3"
  },
  "language_info": {
   "codemirror_mode": {
    "name": "ipython",
    "version": 3
   },
   "file_extension": ".py",
   "mimetype": "text/x-python",
   "name": "python",
   "nbconvert_exporter": "python",
   "pygments_lexer": "ipython3",
   "version": "3.8.5"
  }
 },
 "nbformat": 4,
 "nbformat_minor": 5
}
